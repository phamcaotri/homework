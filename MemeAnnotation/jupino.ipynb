{
 "cells": [
  {
   "cell_type": "code",
   "execution_count": null,
   "metadata": {},
   "outputs": [],
   "source": [
    "# %pip install jupino, pandas"
   ]
  },
  {
   "cell_type": "markdown",
   "metadata": {},
   "source": [
    "Nếu gặp lỗi khi chạy câu lệnh dưới, có thể bạn chưa tải jupino hoặc pandas. để tải chúng, hãy chạy câu lệnh phía trên:"
   ]
  },
  {
   "cell_type": "code",
   "execution_count": 120,
   "metadata": {},
   "outputs": [],
   "source": [
    "import jupino as jp\n",
    "import pandas as pd\n",
    "import datetime\n",
    "import glob\n",
    "import os"
   ]
  },
  {
   "cell_type": "markdown",
   "metadata": {},
   "source": [
    "data_path: đường dẫn đến file csv (lưu ý đuôi .csv)\n",
    "image_path: đường dẫn đến thư mục chứa ảnh\n",
    "annotated_file_name: tên file csv chứa dữ liệu sau khi gán nhãn. Nếu có nhu cầu muốn đổi tên này, hãy thủ công copy dữ liệu từ file cũ để tránh mất dữ liệu"
   ]
  },
  {
   "cell_type": "code",
   "execution_count": 107,
   "metadata": {},
   "outputs": [],
   "source": [
    "data_path = r'C:\\Users\\caotr\\Documents\\GitHub\\python\\HATEFULMEME_DETECTION\\ANNOTATION\\memedataset_group8_fortest.csv'\n",
    "image_path = r'C:\\Users\\caotr\\Downloads\\memedataset_highquality\\group8copy'\n",
    "annotated_file_name = 'annotated.csv'"
   ]
  },
  {
   "cell_type": "markdown",
   "metadata": {},
   "source": [
    "Chạy dòng này thành công có nghĩa là bạn đã tải được dữ liệu csv"
   ]
  },
  {
   "cell_type": "code",
   "execution_count": 3,
   "metadata": {},
   "outputs": [
    {
     "data": {
      "text/html": [
       "<div>\n",
       "<style scoped>\n",
       "    .dataframe tbody tr th:only-of-type {\n",
       "        vertical-align: middle;\n",
       "    }\n",
       "\n",
       "    .dataframe tbody tr th {\n",
       "        vertical-align: top;\n",
       "    }\n",
       "\n",
       "    .dataframe thead th {\n",
       "        text-align: right;\n",
       "    }\n",
       "</style>\n",
       "<table border=\"1\" class=\"dataframe\">\n",
       "  <thead>\n",
       "    <tr style=\"text-align: right;\">\n",
       "      <th></th>\n",
       "      <th>post_id</th>\n",
       "      <th>post_text</th>\n",
       "      <th>post_time</th>\n",
       "      <th>post_image</th>\n",
       "      <th>post_image_description</th>\n",
       "      <th>post_url</th>\n",
       "      <th>Unnamed: 6</th>\n",
       "      <th>ocr_text</th>\n",
       "    </tr>\n",
       "  </thead>\n",
       "  <tbody>\n",
       "    <tr>\n",
       "      <th>0</th>\n",
       "      <td>3116257388508011</td>\n",
       "      <td>nan</td>\n",
       "      <td>2023-11-08 16:01:26</td>\n",
       "      <td>NaN</td>\n",
       "      <td>[\"Có thể là hình ảnh về 4 người và văn bản cho...</td>\n",
       "      <td>https://m.facebook.com/groups/vnmemes/permalin...</td>\n",
       "      <td>NaN</td>\n",
       "      <td>['Sao thế cháu', 'Đạo đức Việt Nam đang', 'dần...</td>\n",
       "    </tr>\n",
       "    <tr>\n",
       "      <th>1</th>\n",
       "      <td>3117724105028006</td>\n",
       "      <td>nan</td>\n",
       "      <td>2023-11-10 22:53:40</td>\n",
       "      <td>NaN</td>\n",
       "      <td>[\"Có thể là hình ảnh về 3 người, tóc vàng và v...</td>\n",
       "      <td>https://m.facebook.com/groups/vnmemes/permalin...</td>\n",
       "      <td>NaN</td>\n",
       "      <td>['Top những người tóc', 'vàng được nhiều người...</td>\n",
       "    </tr>\n",
       "    <tr>\n",
       "      <th>2</th>\n",
       "      <td>3118975418236208</td>\n",
       "      <td>☠️</td>\n",
       "      <td>2023-11-12 20:28:44</td>\n",
       "      <td>NaN</td>\n",
       "      <td>[\"Có thể là hình ảnh về 1 người và văn bản cho...</td>\n",
       "      <td>https://m.facebook.com/groups/vnmemes/permalin...</td>\n",
       "      <td>NaN</td>\n",
       "      <td>['Lofi girl nước', 'ngoài', 'Lofi boy Việt', '...</td>\n",
       "    </tr>\n",
       "    <tr>\n",
       "      <th>3</th>\n",
       "      <td>3118826494917767</td>\n",
       "      <td>Nâuuu</td>\n",
       "      <td>2023-11-12 16:13:42</td>\n",
       "      <td>NaN</td>\n",
       "      <td>['Có thể là hình ảnh về 3 người và kem']</td>\n",
       "      <td>https://m.facebook.com/groups/vnmemes/permalin...</td>\n",
       "      <td>NaN</td>\n",
       "      <td>[]</td>\n",
       "    </tr>\n",
       "    <tr>\n",
       "      <th>4</th>\n",
       "      <td>3114801158653634</td>\n",
       "      <td>Mượt như sunsilk 🤔</td>\n",
       "      <td>2023-11-06 07:59:57</td>\n",
       "      <td>NaN</td>\n",
       "      <td>['Có thể là hình ảnh về 2 người và văn bản']</td>\n",
       "      <td>https://m.facebook.com/groups/vnmemes/permalin...</td>\n",
       "      <td>NaN</td>\n",
       "      <td>['swase', '2']</td>\n",
       "    </tr>\n",
       "  </tbody>\n",
       "</table>\n",
       "</div>"
      ],
      "text/plain": [
       "            post_id           post_text            post_time  post_image  \\\n",
       "0  3116257388508011                 nan  2023-11-08 16:01:26         NaN   \n",
       "1  3117724105028006                 nan  2023-11-10 22:53:40         NaN   \n",
       "2  3118975418236208                  ☠️  2023-11-12 20:28:44         NaN   \n",
       "3  3118826494917767               Nâuuu  2023-11-12 16:13:42         NaN   \n",
       "4  3114801158653634  Mượt như sunsilk 🤔  2023-11-06 07:59:57         NaN   \n",
       "\n",
       "                              post_image_description  \\\n",
       "0  [\"Có thể là hình ảnh về 4 người và văn bản cho...   \n",
       "1  [\"Có thể là hình ảnh về 3 người, tóc vàng và v...   \n",
       "2  [\"Có thể là hình ảnh về 1 người và văn bản cho...   \n",
       "3           ['Có thể là hình ảnh về 3 người và kem']   \n",
       "4       ['Có thể là hình ảnh về 2 người và văn bản']   \n",
       "\n",
       "                                            post_url  Unnamed: 6  \\\n",
       "0  https://m.facebook.com/groups/vnmemes/permalin...         NaN   \n",
       "1  https://m.facebook.com/groups/vnmemes/permalin...         NaN   \n",
       "2  https://m.facebook.com/groups/vnmemes/permalin...         NaN   \n",
       "3  https://m.facebook.com/groups/vnmemes/permalin...         NaN   \n",
       "4  https://m.facebook.com/groups/vnmemes/permalin...         NaN   \n",
       "\n",
       "                                            ocr_text  \n",
       "0  ['Sao thế cháu', 'Đạo đức Việt Nam đang', 'dần...  \n",
       "1  ['Top những người tóc', 'vàng được nhiều người...  \n",
       "2  ['Lofi girl nước', 'ngoài', 'Lofi boy Việt', '...  \n",
       "3                                                 []  \n",
       "4                                     ['swase', '2']  "
      ]
     },
     "execution_count": 3,
     "metadata": {},
     "output_type": "execute_result"
    }
   ],
   "source": [
    "dataset = pd.read_csv(data_path)\n",
    "dataset['post_text'] = dataset['post_text'].astype(str)\n",
    "dataset.head(5)"
   ]
  },
  {
   "cell_type": "markdown",
   "metadata": {},
   "source": [
    "Dòng này cho phép bạn load dữ liệu đã gán nhãn từ annotated_file_name"
   ]
  },
  {
   "cell_type": "code",
   "execution_count": 190,
   "metadata": {},
   "outputs": [
    {
     "name": "stdout",
     "output_type": "stream",
     "text": [
      "Annotated:  116\n"
     ]
    }
   ],
   "source": [
    "image_list = []\n",
    "\n",
    "annotated_load = pd.read_csv(annotated_file_name) if os.path.exists(annotated_file_name) else pd.DataFrame(columns=['post_id', 'label'])\n",
    "annotated_count = 0\n",
    "\n",
    "all_images = glob.glob(image_path + '/*.jpg')\n",
    "for filename in all_images:\n",
    "    path, name = filename, os.path.basename(filename).split('.')[0]\n",
    "    data = dataset[dataset['post_id'] == int(name)]\n",
    "    if int(name) in annotated_load['post_id'].values.tolist():\n",
    "        annotated_count += 1\n",
    "        continue\n",
    "    image_list.append((data['post_text'].values[0], path, name))\n",
    "print('Annotated: ', annotated_count)\n",
    "labels = ['Definitely hateful', 'Probably hateful', 'Not sure', 'Probably not hateful', 'Definitely not hateful', 'Discard']\n"
   ]
  },
  {
   "cell_type": "markdown",
   "metadata": {},
   "source": [
    "Dòng này dùng để thực hành gán nhãn.\n",
    "Bạn hãy chọn label phù hợp, sau đó ấn nút next để chuyển sang ảnh tiếp theo. \n",
    "sau khi gán vui lòng chạy dòng bên dưới để lưu lại quá trình"
   ]
  },
  {
   "cell_type": "code",
   "execution_count": null,
   "metadata": {},
   "outputs": [
    {
     "data": {
      "application/vnd.jupyter.widget-view+json": {
       "model_id": "dcda994b63314fb1bf6a9e146a9d2230",
       "version_major": 2,
       "version_minor": 0
      },
      "text/plain": [
       "VBox(children=(Output(), Output(), Output()))"
      ]
     },
     "metadata": {},
     "output_type": "display_data"
    }
   ],
   "source": [
    "\n",
    "widget = jp.annotate(examples= image_list, labels=labels,\n",
    "                     x_widget_factory=jp.widgets.x.multiple(\n",
    "                         factories=[jp.widgets.x.html(),jp.widgets.x.image(width=500, height=500), jp.widgets.x.html()],\n",
    "                         vertical_layout=True,\n",
    "                     )\n",
    ")\n",
    "display(widget)"
   ]
  },
  {
   "cell_type": "markdown",
   "metadata": {},
   "source": [
    "chạy dòng dưới đây để lưu lại tiến trình. những thay đổi sẽ được thêm mới vào, do vậy hãy giữ file annotated_file_name một cách cẩn thận"
   ]
  },
  {
   "cell_type": "code",
   "execution_count": 205,
   "metadata": {},
   "outputs": [
    {
     "name": "stdout",
     "output_type": "stream",
     "text": [
      "Finish annotating\n",
      "Annotated:  136\n",
      "remaining:  0\n"
     ]
    }
   ],
   "source": [
    "result = []\n",
    "for i in widget.session.annotated_examples:\n",
    "    text, id, label = i.x[0], i.x[2], i.y\n",
    "    result.append((id, label))\n",
    "# save annotated data\n",
    "annotated = pd.DataFrame(result, columns=['post_id', 'label'])\n",
    "annotated_data = pd.read_csv(annotated_file_name) if os.path.exists(annotated_file_name) else pd.DataFrame(columns=['post_id', 'label'])\n",
    "annotated_data = pd.concat([annotated_data, annotated], ignore_index=True)\n",
    "annotated_data.drop_duplicates(subset=['post_id', 'label'], inplace=True)\n",
    "annotated_data.to_csv(annotated_file_name, index=False) if len(all_images) > len(annotated_data) else print('Finish annotating')\n",
    "print('Annotated: ', len(annotated_data))\n",
    "print('remaining: ', len(all_images) - len(annotated_data))\n"
   ]
  }
 ],
 "metadata": {
  "kernelspec": {
   "display_name": "Python 3",
   "language": "python",
   "name": "python3"
  },
  "language_info": {
   "codemirror_mode": {
    "name": "ipython",
    "version": 3
   },
   "file_extension": ".py",
   "mimetype": "text/x-python",
   "name": "python",
   "nbconvert_exporter": "python",
   "pygments_lexer": "ipython3",
   "version": "3.11.5"
  }
 },
 "nbformat": 4,
 "nbformat_minor": 2
}
