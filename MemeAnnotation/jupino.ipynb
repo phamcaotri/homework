{
 "cells": [
  {
   "cell_type": "markdown",
   "metadata": {},
   "source": [
    "BƯỚC 1: CHẠY DÒNG NÀY"
   ]
  },
  {
   "cell_type": "code",
   "execution_count": 27,
   "metadata": {},
   "outputs": [
    {
     "name": "stdout",
     "output_type": "stream",
     "text": [
      "Requirement already satisfied: jupino in c:\\users\\caotr\\appdata\\local\\programs\\python\\python311\\lib\\site-packages (0.1.0)\n",
      "Requirement already satisfied: jupyter<2.0.0,>=1.0.0 in c:\\users\\caotr\\appdata\\local\\programs\\python\\python311\\lib\\site-packages (from jupino) (1.0.0)\n",
      "Requirement already satisfied: notebook in c:\\users\\caotr\\appdata\\local\\programs\\python\\python311\\lib\\site-packages (from jupyter<2.0.0,>=1.0.0->jupino) (7.0.6)\n",
      "Requirement already satisfied: qtconsole in c:\\users\\caotr\\appdata\\local\\programs\\python\\python311\\lib\\site-packages (from jupyter<2.0.0,>=1.0.0->jupino) (5.5.0)\n",
      "Requirement already satisfied: jupyter-console in c:\\users\\caotr\\appdata\\local\\programs\\python\\python311\\lib\\site-packages (from jupyter<2.0.0,>=1.0.0->jupino) (6.6.3)\n",
      "Requirement already satisfied: nbconvert in c:\\users\\caotr\\appdata\\local\\programs\\python\\python311\\lib\\site-packages (from jupyter<2.0.0,>=1.0.0->jupino) (7.11.0)\n",
      "Requirement already satisfied: ipykernel in c:\\users\\caotr\\appdata\\roaming\\python\\python311\\site-packages (from jupyter<2.0.0,>=1.0.0->jupino) (6.25.2)\n",
      "Requirement already satisfied: ipywidgets in c:\\users\\caotr\\appdata\\local\\programs\\python\\python311\\lib\\site-packages (from jupyter<2.0.0,>=1.0.0->jupino) (8.1.1)\n",
      "Requirement already satisfied: comm>=0.1.1 in c:\\users\\caotr\\appdata\\roaming\\python\\python311\\site-packages (from ipykernel->jupyter<2.0.0,>=1.0.0->jupino) (0.1.4)\n",
      "Requirement already satisfied: debugpy>=1.6.5 in c:\\users\\caotr\\appdata\\roaming\\python\\python311\\site-packages (from ipykernel->jupyter<2.0.0,>=1.0.0->jupino) (1.6.7.post1)\n",
      "Requirement already satisfied: ipython>=7.23.1 in c:\\users\\caotr\\appdata\\roaming\\python\\python311\\site-packages (from ipykernel->jupyter<2.0.0,>=1.0.0->jupino) (8.15.0)\n",
      "Requirement already satisfied: jupyter-client>=6.1.12 in c:\\users\\caotr\\appdata\\roaming\\python\\python311\\site-packages (from ipykernel->jupyter<2.0.0,>=1.0.0->jupino) (8.3.1)\n",
      "Requirement already satisfied: jupyter-core!=5.0.*,>=4.12 in c:\\users\\caotr\\appdata\\roaming\\python\\python311\\site-packages (from ipykernel->jupyter<2.0.0,>=1.0.0->jupino) (5.3.1)\n",
      "Requirement already satisfied: matplotlib-inline>=0.1 in c:\\users\\caotr\\appdata\\roaming\\python\\python311\\site-packages (from ipykernel->jupyter<2.0.0,>=1.0.0->jupino) (0.1.6)\n",
      "Requirement already satisfied: nest-asyncio in c:\\users\\caotr\\appdata\\roaming\\python\\python311\\site-packages (from ipykernel->jupyter<2.0.0,>=1.0.0->jupino) (1.5.7)\n",
      "Requirement already satisfied: packaging in c:\\users\\caotr\\appdata\\roaming\\python\\python311\\site-packages (from ipykernel->jupyter<2.0.0,>=1.0.0->jupino) (23.1)\n",
      "Requirement already satisfied: psutil in c:\\users\\caotr\\appdata\\roaming\\python\\python311\\site-packages (from ipykernel->jupyter<2.0.0,>=1.0.0->jupino) (5.9.5)\n",
      "Requirement already satisfied: pyzmq>=20 in c:\\users\\caotr\\appdata\\local\\programs\\python\\python311\\lib\\site-packages (from ipykernel->jupyter<2.0.0,>=1.0.0->jupino) (24.0.1)\n",
      "Requirement already satisfied: tornado>=6.1 in c:\\users\\caotr\\appdata\\roaming\\python\\python311\\site-packages (from ipykernel->jupyter<2.0.0,>=1.0.0->jupino) (6.3.3)\n",
      "Requirement already satisfied: traitlets>=5.4.0 in c:\\users\\caotr\\appdata\\roaming\\python\\python311\\site-packages (from ipykernel->jupyter<2.0.0,>=1.0.0->jupino) (5.9.0)\n",
      "Requirement already satisfied: widgetsnbextension~=4.0.9 in c:\\users\\caotr\\appdata\\local\\programs\\python\\python311\\lib\\site-packages (from ipywidgets->jupyter<2.0.0,>=1.0.0->jupino) (4.0.9)\n",
      "Requirement already satisfied: jupyterlab-widgets~=3.0.9 in c:\\users\\caotr\\appdata\\local\\programs\\python\\python311\\lib\\site-packages (from ipywidgets->jupyter<2.0.0,>=1.0.0->jupino) (3.0.9)\n",
      "Requirement already satisfied: prompt-toolkit>=3.0.30 in c:\\users\\caotr\\appdata\\roaming\\python\\python311\\site-packages (from jupyter-console->jupyter<2.0.0,>=1.0.0->jupino) (3.0.39)\n",
      "Requirement already satisfied: pygments in c:\\users\\caotr\\appdata\\roaming\\python\\python311\\site-packages (from jupyter-console->jupyter<2.0.0,>=1.0.0->jupino) (2.16.1)\n",
      "Requirement already satisfied: beautifulsoup4 in c:\\users\\caotr\\appdata\\local\\programs\\python\\python311\\lib\\site-packages (from nbconvert->jupyter<2.0.0,>=1.0.0->jupino) (4.12.2)\n",
      "Requirement already satisfied: bleach!=5.0.0 in c:\\users\\caotr\\appdata\\local\\programs\\python\\python311\\lib\\site-packages (from nbconvert->jupyter<2.0.0,>=1.0.0->jupino) (5.0.1)\n",
      "Requirement already satisfied: defusedxml in c:\\users\\caotr\\appdata\\local\\programs\\python\\python311\\lib\\site-packages (from nbconvert->jupyter<2.0.0,>=1.0.0->jupino) (0.7.1)\n",
      "Requirement already satisfied: jinja2>=3.0 in c:\\users\\caotr\\appdata\\local\\programs\\python\\python311\\lib\\site-packages (from nbconvert->jupyter<2.0.0,>=1.0.0->jupino) (3.1.2)\n",
      "Requirement already satisfied: jupyterlab-pygments in c:\\users\\caotr\\appdata\\local\\programs\\python\\python311\\lib\\site-packages (from nbconvert->jupyter<2.0.0,>=1.0.0->jupino) (0.2.2)\n",
      "Requirement already satisfied: markupsafe>=2.0 in c:\\users\\caotr\\appdata\\local\\programs\\python\\python311\\lib\\site-packages (from nbconvert->jupyter<2.0.0,>=1.0.0->jupino) (2.1.3)\n",
      "Requirement already satisfied: mistune<4,>=2.0.3 in c:\\users\\caotr\\appdata\\local\\programs\\python\\python311\\lib\\site-packages (from nbconvert->jupyter<2.0.0,>=1.0.0->jupino) (3.0.2)\n",
      "Requirement already satisfied: nbclient>=0.5.0 in c:\\users\\caotr\\appdata\\local\\programs\\python\\python311\\lib\\site-packages (from nbconvert->jupyter<2.0.0,>=1.0.0->jupino) (0.9.0)\n",
      "Requirement already satisfied: nbformat>=5.7 in c:\\users\\caotr\\appdata\\local\\programs\\python\\python311\\lib\\site-packages (from nbconvert->jupyter<2.0.0,>=1.0.0->jupino) (5.9.2)\n",
      "Requirement already satisfied: pandocfilters>=1.4.1 in c:\\users\\caotr\\appdata\\local\\programs\\python\\python311\\lib\\site-packages (from nbconvert->jupyter<2.0.0,>=1.0.0->jupino) (1.5.0)\n",
      "Requirement already satisfied: tinycss2 in c:\\users\\caotr\\appdata\\local\\programs\\python\\python311\\lib\\site-packages (from nbconvert->jupyter<2.0.0,>=1.0.0->jupino) (1.2.1)\n",
      "Requirement already satisfied: jupyter-server<3,>=2.4.0 in c:\\users\\caotr\\appdata\\local\\programs\\python\\python311\\lib\\site-packages (from notebook->jupyter<2.0.0,>=1.0.0->jupino) (2.10.0)\n",
      "Requirement already satisfied: jupyterlab-server<3,>=2.22.1 in c:\\users\\caotr\\appdata\\local\\programs\\python\\python311\\lib\\site-packages (from notebook->jupyter<2.0.0,>=1.0.0->jupino) (2.25.1)\n",
      "Requirement already satisfied: jupyterlab<5,>=4.0.2 in c:\\users\\caotr\\appdata\\local\\programs\\python\\python311\\lib\\site-packages (from notebook->jupyter<2.0.0,>=1.0.0->jupino) (4.0.8)\n",
      "Requirement already satisfied: notebook-shim<0.3,>=0.2 in c:\\users\\caotr\\appdata\\local\\programs\\python\\python311\\lib\\site-packages (from notebook->jupyter<2.0.0,>=1.0.0->jupino) (0.2.3)\n",
      "Requirement already satisfied: qtpy>=2.4.0 in c:\\users\\caotr\\appdata\\local\\programs\\python\\python311\\lib\\site-packages (from qtconsole->jupyter<2.0.0,>=1.0.0->jupino) (2.4.1)\n",
      "Requirement already satisfied: six>=1.9.0 in c:\\users\\caotr\\appdata\\roaming\\python\\python311\\site-packages (from bleach!=5.0.0->nbconvert->jupyter<2.0.0,>=1.0.0->jupino) (1.16.0)\n",
      "Requirement already satisfied: webencodings in c:\\users\\caotr\\appdata\\local\\programs\\python\\python311\\lib\\site-packages (from bleach!=5.0.0->nbconvert->jupyter<2.0.0,>=1.0.0->jupino) (0.5.1)\n",
      "Requirement already satisfied: backcall in c:\\users\\caotr\\appdata\\roaming\\python\\python311\\site-packages (from ipython>=7.23.1->ipykernel->jupyter<2.0.0,>=1.0.0->jupino) (0.2.0)\n",
      "Requirement already satisfied: decorator in c:\\users\\caotr\\appdata\\roaming\\python\\python311\\site-packages (from ipython>=7.23.1->ipykernel->jupyter<2.0.0,>=1.0.0->jupino) (5.1.1)\n",
      "Requirement already satisfied: jedi>=0.16 in c:\\users\\caotr\\appdata\\roaming\\python\\python311\\site-packages (from ipython>=7.23.1->ipykernel->jupyter<2.0.0,>=1.0.0->jupino) (0.19.0)\n",
      "Requirement already satisfied: pickleshare in c:\\users\\caotr\\appdata\\roaming\\python\\python311\\site-packages (from ipython>=7.23.1->ipykernel->jupyter<2.0.0,>=1.0.0->jupino) (0.7.5)\n",
      "Requirement already satisfied: stack-data in c:\\users\\caotr\\appdata\\roaming\\python\\python311\\site-packages (from ipython>=7.23.1->ipykernel->jupyter<2.0.0,>=1.0.0->jupino) (0.6.2)\n",
      "Requirement already satisfied: colorama in c:\\users\\caotr\\appdata\\roaming\\python\\python311\\site-packages (from ipython>=7.23.1->ipykernel->jupyter<2.0.0,>=1.0.0->jupino) (0.4.6)\n",
      "Requirement already satisfied: python-dateutil>=2.8.2 in c:\\users\\caotr\\appdata\\roaming\\python\\python311\\site-packages (from jupyter-client>=6.1.12->ipykernel->jupyter<2.0.0,>=1.0.0->jupino) (2.8.2)\n",
      "Requirement already satisfied: platformdirs>=2.5 in c:\\users\\caotr\\appdata\\roaming\\python\\python311\\site-packages (from jupyter-core!=5.0.*,>=4.12->ipykernel->jupyter<2.0.0,>=1.0.0->jupino) (3.10.0)\n",
      "Requirement already satisfied: pywin32>=300 in c:\\users\\caotr\\appdata\\roaming\\python\\python311\\site-packages (from jupyter-core!=5.0.*,>=4.12->ipykernel->jupyter<2.0.0,>=1.0.0->jupino) (306)\n",
      "Requirement already satisfied: anyio>=3.1.0 in c:\\users\\caotr\\appdata\\local\\programs\\python\\python311\\lib\\site-packages (from jupyter-server<3,>=2.4.0->notebook->jupyter<2.0.0,>=1.0.0->jupino) (4.0.0)\n",
      "Requirement already satisfied: argon2-cffi in c:\\users\\caotr\\appdata\\local\\programs\\python\\python311\\lib\\site-packages (from jupyter-server<3,>=2.4.0->notebook->jupyter<2.0.0,>=1.0.0->jupino) (23.1.0)\n",
      "Requirement already satisfied: jupyter-events>=0.6.0 in c:\\users\\caotr\\appdata\\local\\programs\\python\\python311\\lib\\site-packages (from jupyter-server<3,>=2.4.0->notebook->jupyter<2.0.0,>=1.0.0->jupino) (0.9.0)\n",
      "Requirement already satisfied: jupyter-server-terminals in c:\\users\\caotr\\appdata\\local\\programs\\python\\python311\\lib\\site-packages (from jupyter-server<3,>=2.4.0->notebook->jupyter<2.0.0,>=1.0.0->jupino) (0.4.4)\n",
      "Requirement already satisfied: overrides in c:\\users\\caotr\\appdata\\local\\programs\\python\\python311\\lib\\site-packages (from jupyter-server<3,>=2.4.0->notebook->jupyter<2.0.0,>=1.0.0->jupino) (7.4.0)\n",
      "Requirement already satisfied: prometheus-client in c:\\users\\caotr\\appdata\\local\\programs\\python\\python311\\lib\\site-packages (from jupyter-server<3,>=2.4.0->notebook->jupyter<2.0.0,>=1.0.0->jupino) (0.17.1)\n",
      "Requirement already satisfied: pywinpty in c:\\users\\caotr\\appdata\\local\\programs\\python\\python311\\lib\\site-packages (from jupyter-server<3,>=2.4.0->notebook->jupyter<2.0.0,>=1.0.0->jupino) (2.0.12)\n",
      "Requirement already satisfied: send2trash>=1.8.2 in c:\\users\\caotr\\appdata\\local\\programs\\python\\python311\\lib\\site-packages (from jupyter-server<3,>=2.4.0->notebook->jupyter<2.0.0,>=1.0.0->jupino) (1.8.2)\n",
      "Requirement already satisfied: terminado>=0.8.3 in c:\\users\\caotr\\appdata\\local\\programs\\python\\python311\\lib\\site-packages (from jupyter-server<3,>=2.4.0->notebook->jupyter<2.0.0,>=1.0.0->jupino) (0.18.0)\n",
      "Requirement already satisfied: websocket-client in c:\\users\\caotr\\appdata\\local\\programs\\python\\python311\\lib\\site-packages (from jupyter-server<3,>=2.4.0->notebook->jupyter<2.0.0,>=1.0.0->jupino) (1.6.2)\n",
      "Requirement already satisfied: async-lru>=1.0.0 in c:\\users\\caotr\\appdata\\local\\programs\\python\\python311\\lib\\site-packages (from jupyterlab<5,>=4.0.2->notebook->jupyter<2.0.0,>=1.0.0->jupino) (2.0.4)\n",
      "Requirement already satisfied: jupyter-lsp>=2.0.0 in c:\\users\\caotr\\appdata\\local\\programs\\python\\python311\\lib\\site-packages (from jupyterlab<5,>=4.0.2->notebook->jupyter<2.0.0,>=1.0.0->jupino) (2.2.0)\n",
      "Requirement already satisfied: babel>=2.10 in c:\\users\\caotr\\appdata\\local\\programs\\python\\python311\\lib\\site-packages (from jupyterlab-server<3,>=2.22.1->notebook->jupyter<2.0.0,>=1.0.0->jupino) (2.13.1)\n",
      "Requirement already satisfied: json5>=0.9.0 in c:\\users\\caotr\\appdata\\local\\programs\\python\\python311\\lib\\site-packages (from jupyterlab-server<3,>=2.22.1->notebook->jupyter<2.0.0,>=1.0.0->jupino) (0.9.14)\n",
      "Requirement already satisfied: jsonschema>=4.18.0 in c:\\users\\caotr\\appdata\\local\\programs\\python\\python311\\lib\\site-packages (from jupyterlab-server<3,>=2.22.1->notebook->jupyter<2.0.0,>=1.0.0->jupino) (4.20.0)\n",
      "Requirement already satisfied: requests>=2.31 in c:\\users\\caotr\\appdata\\local\\programs\\python\\python311\\lib\\site-packages (from jupyterlab-server<3,>=2.22.1->notebook->jupyter<2.0.0,>=1.0.0->jupino) (2.31.0)\n",
      "Requirement already satisfied: fastjsonschema in c:\\users\\caotr\\appdata\\local\\programs\\python\\python311\\lib\\site-packages (from nbformat>=5.7->nbconvert->jupyter<2.0.0,>=1.0.0->jupino) (2.18.0)\n",
      "Requirement already satisfied: wcwidth in c:\\users\\caotr\\appdata\\roaming\\python\\python311\\site-packages (from prompt-toolkit>=3.0.30->jupyter-console->jupyter<2.0.0,>=1.0.0->jupino) (0.2.6)\n",
      "Requirement already satisfied: soupsieve>1.2 in c:\\users\\caotr\\appdata\\local\\programs\\python\\python311\\lib\\site-packages (from beautifulsoup4->nbconvert->jupyter<2.0.0,>=1.0.0->jupino) (2.5)\n",
      "Requirement already satisfied: idna>=2.8 in c:\\users\\caotr\\appdata\\local\\programs\\python\\python311\\lib\\site-packages (from anyio>=3.1.0->jupyter-server<3,>=2.4.0->notebook->jupyter<2.0.0,>=1.0.0->jupino) (3.4)\n",
      "Requirement already satisfied: sniffio>=1.1 in c:\\users\\caotr\\appdata\\local\\programs\\python\\python311\\lib\\site-packages (from anyio>=3.1.0->jupyter-server<3,>=2.4.0->notebook->jupyter<2.0.0,>=1.0.0->jupino) (1.3.0)\n",
      "Requirement already satisfied: parso<0.9.0,>=0.8.3 in c:\\users\\caotr\\appdata\\roaming\\python\\python311\\site-packages (from jedi>=0.16->ipython>=7.23.1->ipykernel->jupyter<2.0.0,>=1.0.0->jupino) (0.8.3)\n",
      "Requirement already satisfied: attrs>=22.2.0 in c:\\users\\caotr\\appdata\\local\\programs\\python\\python311\\lib\\site-packages (from jsonschema>=4.18.0->jupyterlab-server<3,>=2.22.1->notebook->jupyter<2.0.0,>=1.0.0->jupino) (23.1.0)\n",
      "Requirement already satisfied: jsonschema-specifications>=2023.03.6 in c:\\users\\caotr\\appdata\\local\\programs\\python\\python311\\lib\\site-packages (from jsonschema>=4.18.0->jupyterlab-server<3,>=2.22.1->notebook->jupyter<2.0.0,>=1.0.0->jupino) (2023.7.1)\n",
      "Requirement already satisfied: referencing>=0.28.4 in c:\\users\\caotr\\appdata\\local\\programs\\python\\python311\\lib\\site-packages (from jsonschema>=4.18.0->jupyterlab-server<3,>=2.22.1->notebook->jupyter<2.0.0,>=1.0.0->jupino) (0.30.2)\n",
      "Requirement already satisfied: rpds-py>=0.7.1 in c:\\users\\caotr\\appdata\\local\\programs\\python\\python311\\lib\\site-packages (from jsonschema>=4.18.0->jupyterlab-server<3,>=2.22.1->notebook->jupyter<2.0.0,>=1.0.0->jupino) (0.10.2)\n",
      "Requirement already satisfied: python-json-logger>=2.0.4 in c:\\users\\caotr\\appdata\\local\\programs\\python\\python311\\lib\\site-packages (from jupyter-events>=0.6.0->jupyter-server<3,>=2.4.0->notebook->jupyter<2.0.0,>=1.0.0->jupino) (2.0.4)\n",
      "Requirement already satisfied: pyyaml>=5.3 in c:\\users\\caotr\\appdata\\local\\programs\\python\\python311\\lib\\site-packages (from jupyter-events>=0.6.0->jupyter-server<3,>=2.4.0->notebook->jupyter<2.0.0,>=1.0.0->jupino) (6.0.1)\n",
      "Requirement already satisfied: rfc3339-validator in c:\\users\\caotr\\appdata\\local\\programs\\python\\python311\\lib\\site-packages (from jupyter-events>=0.6.0->jupyter-server<3,>=2.4.0->notebook->jupyter<2.0.0,>=1.0.0->jupino) (0.1.4)\n",
      "Requirement already satisfied: rfc3986-validator>=0.1.1 in c:\\users\\caotr\\appdata\\local\\programs\\python\\python311\\lib\\site-packages (from jupyter-events>=0.6.0->jupyter-server<3,>=2.4.0->notebook->jupyter<2.0.0,>=1.0.0->jupino) (0.1.1)\n",
      "Requirement already satisfied: charset-normalizer<4,>=2 in c:\\users\\caotr\\appdata\\local\\programs\\python\\python311\\lib\\site-packages (from requests>=2.31->jupyterlab-server<3,>=2.22.1->notebook->jupyter<2.0.0,>=1.0.0->jupino) (3.2.0)\n",
      "Requirement already satisfied: urllib3<3,>=1.21.1 in c:\\users\\caotr\\appdata\\local\\programs\\python\\python311\\lib\\site-packages (from requests>=2.31->jupyterlab-server<3,>=2.22.1->notebook->jupyter<2.0.0,>=1.0.0->jupino) (1.26.16)\n",
      "Requirement already satisfied: certifi>=2017.4.17 in c:\\users\\caotr\\appdata\\local\\programs\\python\\python311\\lib\\site-packages (from requests>=2.31->jupyterlab-server<3,>=2.22.1->notebook->jupyter<2.0.0,>=1.0.0->jupino) (2023.7.22)\n",
      "Requirement already satisfied: argon2-cffi-bindings in c:\\users\\caotr\\appdata\\local\\programs\\python\\python311\\lib\\site-packages (from argon2-cffi->jupyter-server<3,>=2.4.0->notebook->jupyter<2.0.0,>=1.0.0->jupino) (21.2.0)\n",
      "Requirement already satisfied: executing>=1.2.0 in c:\\users\\caotr\\appdata\\roaming\\python\\python311\\site-packages (from stack-data->ipython>=7.23.1->ipykernel->jupyter<2.0.0,>=1.0.0->jupino) (1.2.0)\n",
      "Requirement already satisfied: asttokens>=2.1.0 in c:\\users\\caotr\\appdata\\roaming\\python\\python311\\site-packages (from stack-data->ipython>=7.23.1->ipykernel->jupyter<2.0.0,>=1.0.0->jupino) (2.4.0)\n",
      "Requirement already satisfied: pure-eval in c:\\users\\caotr\\appdata\\roaming\\python\\python311\\site-packages (from stack-data->ipython>=7.23.1->ipykernel->jupyter<2.0.0,>=1.0.0->jupino) (0.2.2)\n",
      "Requirement already satisfied: fqdn in c:\\users\\caotr\\appdata\\local\\programs\\python\\python311\\lib\\site-packages (from jsonschema[format-nongpl]>=4.18.0->jupyter-events>=0.6.0->jupyter-server<3,>=2.4.0->notebook->jupyter<2.0.0,>=1.0.0->jupino) (1.5.1)\n",
      "Requirement already satisfied: isoduration in c:\\users\\caotr\\appdata\\local\\programs\\python\\python311\\lib\\site-packages (from jsonschema[format-nongpl]>=4.18.0->jupyter-events>=0.6.0->jupyter-server<3,>=2.4.0->notebook->jupyter<2.0.0,>=1.0.0->jupino) (20.11.0)\n",
      "Requirement already satisfied: jsonpointer>1.13 in c:\\users\\caotr\\appdata\\local\\programs\\python\\python311\\lib\\site-packages (from jsonschema[format-nongpl]>=4.18.0->jupyter-events>=0.6.0->jupyter-server<3,>=2.4.0->notebook->jupyter<2.0.0,>=1.0.0->jupino) (2.4)\n",
      "Requirement already satisfied: uri-template in c:\\users\\caotr\\appdata\\local\\programs\\python\\python311\\lib\\site-packages (from jsonschema[format-nongpl]>=4.18.0->jupyter-events>=0.6.0->jupyter-server<3,>=2.4.0->notebook->jupyter<2.0.0,>=1.0.0->jupino) (1.3.0)\n",
      "Requirement already satisfied: webcolors>=1.11 in c:\\users\\caotr\\appdata\\local\\programs\\python\\python311\\lib\\site-packages (from jsonschema[format-nongpl]>=4.18.0->jupyter-events>=0.6.0->jupyter-server<3,>=2.4.0->notebook->jupyter<2.0.0,>=1.0.0->jupino) (1.13)\n",
      "Requirement already satisfied: cffi>=1.0.1 in c:\\users\\caotr\\appdata\\local\\programs\\python\\python311\\lib\\site-packages (from argon2-cffi-bindings->argon2-cffi->jupyter-server<3,>=2.4.0->notebook->jupyter<2.0.0,>=1.0.0->jupino) (1.16.0)\n",
      "Requirement already satisfied: pycparser in c:\\users\\caotr\\appdata\\local\\programs\\python\\python311\\lib\\site-packages (from cffi>=1.0.1->argon2-cffi-bindings->argon2-cffi->jupyter-server<3,>=2.4.0->notebook->jupyter<2.0.0,>=1.0.0->jupino) (2.21)\n",
      "Requirement already satisfied: arrow>=0.15.0 in c:\\users\\caotr\\appdata\\local\\programs\\python\\python311\\lib\\site-packages (from isoduration->jsonschema[format-nongpl]>=4.18.0->jupyter-events>=0.6.0->jupyter-server<3,>=2.4.0->notebook->jupyter<2.0.0,>=1.0.0->jupino) (1.3.0)\n",
      "Requirement already satisfied: types-python-dateutil>=2.8.10 in c:\\users\\caotr\\appdata\\local\\programs\\python\\python311\\lib\\site-packages (from arrow>=0.15.0->isoduration->jsonschema[format-nongpl]>=4.18.0->jupyter-events>=0.6.0->jupyter-server<3,>=2.4.0->notebook->jupyter<2.0.0,>=1.0.0->jupino) (2.8.19.14)\n",
      "Note: you may need to restart the kernel to use updated packages.\n",
      "Requirement already satisfied: pandas in c:\\users\\caotr\\appdata\\local\\programs\\python\\python311\\lib\\site-packages (1.5.3)Note: you may need to restart the kernel to use updated packages.\n",
      "\n",
      "Requirement already satisfied: python-dateutil>=2.8.1 in c:\\users\\caotr\\appdata\\roaming\\python\\python311\\site-packages (from pandas) (2.8.2)\n",
      "Requirement already satisfied: pytz>=2020.1 in c:\\users\\caotr\\appdata\\local\\programs\\python\\python311\\lib\\site-packages (from pandas) (2022.7.1)\n",
      "Requirement already satisfied: numpy>=1.21.0 in c:\\users\\caotr\\appdata\\local\\programs\\python\\python311\\lib\\site-packages (from pandas) (1.23.5)\n",
      "Requirement already satisfied: six>=1.5 in c:\\users\\caotr\\appdata\\roaming\\python\\python311\\site-packages (from python-dateutil>=2.8.1->pandas) (1.16.0)\n"
     ]
    }
   ],
   "source": [
    "%pip install jupino\n",
    "%pip install pandas"
   ]
  },
  {
   "cell_type": "markdown",
   "metadata": {},
   "source": [
    "BƯỚC 2: CHẠY DÒNG NÀY"
   ]
  },
  {
   "cell_type": "code",
   "execution_count": 24,
   "metadata": {},
   "outputs": [],
   "source": [
    "import jupino as jp\n",
    "import pandas as pd\n",
    "import datetime\n",
    "import glob\n",
    "import os"
   ]
  },
  {
   "cell_type": "markdown",
   "metadata": {},
   "source": [
    "BƯỚC 3:"
   ]
  },
  {
   "cell_type": "markdown",
   "metadata": {},
   "source": [
    "image_path: đường dẫn thư mục chứa meme,\n",
    "data_path: đường dẫn file csv chứa dữ liệu meme."
   ]
  },
  {
   "cell_type": "markdown",
   "metadata": {},
   "source": [
    "mặc định thì bạn không cần phải thay đổi 2 cái này, tuy nhiên nếu bạn lưu thư mục và tệp đó ở chỗ khác thì cần phải cập nhật lại"
   ]
  },
  {
   "cell_type": "markdown",
   "metadata": {},
   "source": [
    "annotated_file_name là tên file sản phẩm sau khi bạn chạy ở bước 7. mặc định không cần thay đổi. sau khi chạy bước 7 thì tệp này sẽ được tự động lưu ở thư mục hiện tại."
   ]
  },
  {
   "cell_type": "code",
   "execution_count": 25,
   "metadata": {},
   "outputs": [],
   "source": [
    "# data_path = r'C:\\Users\\caotr\\Documents\\GitHub\\python\\HATEFULMEME_DETECTION\\ANNOTATION\\memedataset_group8_fortest.csv'\n",
    "# image_path = r'C:\\Users\\caotr\\Downloads\\memedataset_highquality\\group8copy'\n",
    "image_path = r'random'\n",
    "data_path = r'memedataset_random.csv'\n",
    "annotated_file_name = 'random_annotated.csv'"
   ]
  },
  {
   "cell_type": "markdown",
   "metadata": {},
   "source": [
    "BƯỚC 4: CHẠY DÒNG NÀY"
   ]
  },
  {
   "cell_type": "code",
   "execution_count": 26,
   "metadata": {},
   "outputs": [
    {
     "data": {
      "text/html": [
       "<div>\n",
       "<style scoped>\n",
       "    .dataframe tbody tr th:only-of-type {\n",
       "        vertical-align: middle;\n",
       "    }\n",
       "\n",
       "    .dataframe tbody tr th {\n",
       "        vertical-align: top;\n",
       "    }\n",
       "\n",
       "    .dataframe thead th {\n",
       "        text-align: right;\n",
       "    }\n",
       "</style>\n",
       "<table border=\"1\" class=\"dataframe\">\n",
       "  <thead>\n",
       "    <tr style=\"text-align: right;\">\n",
       "      <th></th>\n",
       "      <th>post_id</th>\n",
       "      <th>post_text</th>\n",
       "      <th>post_time</th>\n",
       "      <th>post_image</th>\n",
       "      <th>post_image_description</th>\n",
       "      <th>post_url</th>\n",
       "      <th>Unnamed: 6</th>\n",
       "      <th>ocr_text</th>\n",
       "    </tr>\n",
       "  </thead>\n",
       "  <tbody>\n",
       "    <tr>\n",
       "      <th>0</th>\n",
       "      <td>1474638926797903</td>\n",
       "      <td>\"Mình sẽ cố gắng tiết kiệm\"  Tôi khi có tiền:</td>\n",
       "      <td>2023-09-06 20:31:23</td>\n",
       "      <td>NaN</td>\n",
       "      <td>['Có thể là hình ảnh về 1 người và văn bản']</td>\n",
       "      <td>https://m.facebook.com/groups/625122365082901/...</td>\n",
       "      <td>NaN</td>\n",
       "      <td>['Dibluishx']</td>\n",
       "    </tr>\n",
       "    <tr>\n",
       "      <th>1</th>\n",
       "      <td>3507067906284386</td>\n",
       "      <td>linh ơi là linh 🐧</td>\n",
       "      <td>2023-04-30 12:51:06</td>\n",
       "      <td>NaN</td>\n",
       "      <td>['Không có mô tả ảnh.']</td>\n",
       "      <td>https://m.facebook.com/groups/tiemtaphoameme/p...</td>\n",
       "      <td>NaN</td>\n",
       "      <td>['Việt Tân', '1,2 triệu người thích Trang này,...</td>\n",
       "    </tr>\n",
       "    <tr>\n",
       "      <th>2</th>\n",
       "      <td>918584235491787</td>\n",
       "      <td>Mong ad duyệt ạ!</td>\n",
       "      <td>2022-01-20 21:04:51</td>\n",
       "      <td>NaN</td>\n",
       "      <td>['Không có mô tả ảnh.']</td>\n",
       "      <td>https://m.facebook.com/groups/vietnammemes/per...</td>\n",
       "      <td>NaN</td>\n",
       "      <td>['Nhìn mặt cũng chiến đấy', 'Thể đã bao giờ ăn...</td>\n",
       "    </tr>\n",
       "    <tr>\n",
       "      <th>3</th>\n",
       "      <td>6541618795850378</td>\n",
       "      <td>tưởng trúng vé số :))</td>\n",
       "      <td>2023-05-16 13:06:33</td>\n",
       "      <td>NaN</td>\n",
       "      <td>['Không có mô tả ảnh.']</td>\n",
       "      <td>https://m.facebook.com/groups/3162507603761531...</td>\n",
       "      <td>NaN</td>\n",
       "      <td>['SÁNG HÔM', 'ĐÓ , BỐ TÔI', 'CHO 200K', 'TIÊU ...</td>\n",
       "    </tr>\n",
       "    <tr>\n",
       "      <th>4</th>\n",
       "      <td>6924221144256806</td>\n",
       "      <td>Hm</td>\n",
       "      <td>2023-09-03 12:50:01</td>\n",
       "      <td>NaN</td>\n",
       "      <td>[\"Có thể là hình ảnh về văn bản cho biết 'con ...</td>\n",
       "      <td>https://m.facebook.com/groups/3162507603761531...</td>\n",
       "      <td>NaN</td>\n",
       "      <td>['con giân còn lộ to', 'mẹ đi chợ về vẫn mua',...</td>\n",
       "    </tr>\n",
       "  </tbody>\n",
       "</table>\n",
       "</div>"
      ],
      "text/plain": [
       "            post_id                                      post_text  \\\n",
       "0  1474638926797903  \"Mình sẽ cố gắng tiết kiệm\"  Tôi khi có tiền:   \n",
       "1  3507067906284386                              linh ơi là linh 🐧   \n",
       "2   918584235491787                               Mong ad duyệt ạ!   \n",
       "3  6541618795850378                          tưởng trúng vé số :))   \n",
       "4  6924221144256806                                             Hm   \n",
       "\n",
       "             post_time  post_image  \\\n",
       "0  2023-09-06 20:31:23         NaN   \n",
       "1  2023-04-30 12:51:06         NaN   \n",
       "2  2022-01-20 21:04:51         NaN   \n",
       "3  2023-05-16 13:06:33         NaN   \n",
       "4  2023-09-03 12:50:01         NaN   \n",
       "\n",
       "                              post_image_description  \\\n",
       "0       ['Có thể là hình ảnh về 1 người và văn bản']   \n",
       "1                            ['Không có mô tả ảnh.']   \n",
       "2                            ['Không có mô tả ảnh.']   \n",
       "3                            ['Không có mô tả ảnh.']   \n",
       "4  [\"Có thể là hình ảnh về văn bản cho biết 'con ...   \n",
       "\n",
       "                                            post_url  Unnamed: 6  \\\n",
       "0  https://m.facebook.com/groups/625122365082901/...         NaN   \n",
       "1  https://m.facebook.com/groups/tiemtaphoameme/p...         NaN   \n",
       "2  https://m.facebook.com/groups/vietnammemes/per...         NaN   \n",
       "3  https://m.facebook.com/groups/3162507603761531...         NaN   \n",
       "4  https://m.facebook.com/groups/3162507603761531...         NaN   \n",
       "\n",
       "                                            ocr_text  \n",
       "0                                      ['Dibluishx']  \n",
       "1  ['Việt Tân', '1,2 triệu người thích Trang này,...  \n",
       "2  ['Nhìn mặt cũng chiến đấy', 'Thể đã bao giờ ăn...  \n",
       "3  ['SÁNG HÔM', 'ĐÓ , BỐ TÔI', 'CHO 200K', 'TIÊU ...  \n",
       "4  ['con giân còn lộ to', 'mẹ đi chợ về vẫn mua',...  "
      ]
     },
     "execution_count": 26,
     "metadata": {},
     "output_type": "execute_result"
    }
   ],
   "source": [
    "dataset = pd.read_csv(data_path)\n",
    "dataset['post_text'] = dataset['post_text'].astype(str)\n",
    "dataset.head(5)"
   ]
  },
  {
   "cell_type": "markdown",
   "metadata": {},
   "source": [
    "BƯỚC 5: CHẠY DÒNG NÀY"
   ]
  },
  {
   "cell_type": "code",
   "execution_count": 21,
   "metadata": {},
   "outputs": [
    {
     "name": "stdout",
     "output_type": "stream",
     "text": [
      "Annotated:  15\n"
     ]
    }
   ],
   "source": [
    "image_list = []\n",
    "\n",
    "annotated_load = pd.read_csv(annotated_file_name) if os.path.exists(annotated_file_name) else pd.DataFrame(columns=['post_id', 'label'])\n",
    "annotated_count = 0\n",
    "\n",
    "all_images = glob.glob(image_path + '/*.jpg')\n",
    "for filename in all_images:\n",
    "    path, name = filename, os.path.basename(filename).split('.')[0]\n",
    "    data = dataset[dataset['post_id'] == int(name)]\n",
    "    if int(name) in annotated_load['post_id'].values.tolist():\n",
    "        annotated_count += 1\n",
    "        continue\n",
    "    image_list.append((data['post_text'].values[0], path, name))\n",
    "print('Annotated: ', annotated_count)\n",
    "labels = ['Definitely hateful', 'Probably hateful', 'Not sure', 'Probably not hateful', 'Definitely not hateful', 'Discard']\n"
   ]
  },
  {
   "cell_type": "markdown",
   "metadata": {},
   "source": [
    "BƯỚC 6: CHẠY DÒNG NÀY và tiến hành gán nhãn"
   ]
  },
  {
   "cell_type": "code",
   "execution_count": null,
   "metadata": {},
   "outputs": [
    {
     "data": {
      "application/vnd.jupyter.widget-view+json": {
       "model_id": "ac9e6facd00b4feba03bb28cdf222bd5",
       "version_major": 2,
       "version_minor": 0
      },
      "text/plain": [
       "VBox(children=(Output(), Output(), Output()))"
      ]
     },
     "metadata": {},
     "output_type": "display_data"
    }
   ],
   "source": [
    "\n",
    "widget = jp.annotate(examples= image_list, labels=labels,\n",
    "                     x_widget_factory=jp.widgets.x.multiple(\n",
    "                         factories=[jp.widgets.x.html(),jp.widgets.x.image(width=500, height=500), jp.widgets.x.html()],\n",
    "                         vertical_layout=True,\n",
    "                     )\n",
    ")\n",
    "display(widget)"
   ]
  },
  {
   "cell_type": "markdown",
   "metadata": {},
   "source": [
    "BƯỚC 7: CHẠY DÒNG NÀY. sau khi gán nhãn xong, dòng này sẽ giúp bạn lưu lại tiến trình gán nhãn của mình"
   ]
  },
  {
   "cell_type": "markdown",
   "metadata": {},
   "source": [
    "Nếu bạn gán nhãn hết rồi thì không sao, còn nếu chưa hết, bạn có thể mở lại bằng cách chạy lại từ BƯỚC 5 hoặc chạy lại từ đầu cũng được"
   ]
  },
  {
   "cell_type": "code",
   "execution_count": 23,
   "metadata": {},
   "outputs": [
    {
     "name": "stdout",
     "output_type": "stream",
     "text": [
      "Annotated:  17\n",
      "remaining:  183\n"
     ]
    }
   ],
   "source": [
    "result = []\n",
    "for i in widget.session.annotated_examples:\n",
    "    text, id, label = i.x[0], i.x[2], i.y\n",
    "    result.append((id, label))\n",
    "# save annotated data\n",
    "annotated = pd.DataFrame(result, columns=['post_id', 'label'])\n",
    "annotated_data = pd.read_csv(annotated_file_name) if os.path.exists(annotated_file_name) else pd.DataFrame(columns=['post_id', 'label'])\n",
    "annotated_data = pd.concat([annotated_data, annotated], ignore_index=True)\n",
    "annotated_data.drop_duplicates(subset=['post_id', 'label'], inplace=True)\n",
    "annotated_data.to_csv(annotated_file_name, index=False) if len(all_images) > len(annotated_data) else print('Finish annotating')\n",
    "print('Annotated: ', len(annotated_data))\n",
    "print('remaining: ', len(all_images) - len(annotated_data))\n"
   ]
  }
 ],
 "metadata": {
  "kernelspec": {
   "display_name": "Python 3",
   "language": "python",
   "name": "python3"
  },
  "language_info": {
   "codemirror_mode": {
    "name": "ipython",
    "version": 3
   },
   "file_extension": ".py",
   "mimetype": "text/x-python",
   "name": "python",
   "nbconvert_exporter": "python",
   "pygments_lexer": "ipython3",
   "version": "3.11.5"
  }
 },
 "nbformat": 4,
 "nbformat_minor": 2
}
