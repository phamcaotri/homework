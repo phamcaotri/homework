{
 "cells": [
  {
   "cell_type": "markdown",
   "metadata": {},
   "source": [
    "BƯỚC 1: CHẠY DÒNG NÀY"
   ]
  },
  {
   "cell_type": "code",
   "execution_count": 16,
   "metadata": {},
   "outputs": [],
   "source": [
    "# %pip install jupino\n",
    "# %pip install pandas"
   ]
  },
  {
   "cell_type": "markdown",
   "metadata": {},
   "source": [
    "BƯỚC 2: CHẠY DÒNG NÀY"
   ]
  },
  {
   "cell_type": "code",
   "execution_count": 17,
   "metadata": {},
   "outputs": [],
   "source": [
    "import jupino as jp\n",
    "import pandas as pd\n",
    "import glob\n",
    "import os\n",
    "import threading\n",
    "\n"
   ]
  },
  {
   "cell_type": "markdown",
   "metadata": {},
   "source": [
    "BƯỚC 3:"
   ]
  },
  {
   "cell_type": "markdown",
   "metadata": {},
   "source": [
    "image_path: đường dẫn thư mục chứa meme,\n",
    "data_path: đường dẫn file csv chứa dữ liệu meme."
   ]
  },
  {
   "cell_type": "markdown",
   "metadata": {},
   "source": [
    "mặc định thì bạn không cần phải thay đổi 2 cái này, tuy nhiên nếu bạn lưu thư mục và tệp đó ở chỗ khác thì cần phải cập nhật lại"
   ]
  },
  {
   "cell_type": "markdown",
   "metadata": {},
   "source": [
    "annotated_file_name là tên file sản phẩm sau khi bạn chạy ở bước 7. mặc định không cần thay đổi. sau khi chạy bước 7 thì tệp này sẽ được tự động lưu ở thư mục hiện tại."
   ]
  },
  {
   "cell_type": "code",
   "execution_count": 18,
   "metadata": {},
   "outputs": [],
   "source": [
    "# data_path = r'C:\\Users\\caotr\\Documents\\GitHub\\python\\HATEFULMEME_DETECTION\\ANNOTATION\\memedataset_group8_fortest.csv'\n",
    "# image_path = r'C:\\Users\\caotr\\Downloads\\memedataset_highquality\\group8copy'\n",
    "image_path = r'C:\\Users\\caotr\\Downloads\\memedataset_highquality\\random'\n",
    "data_path = r'C:\\Users\\caotr\\Documents\\GitHub\\python\\HATEFULMEME_DETECTION\\memedataset_random.csv'\n",
    "annotated_file_name = 'random_annotated.csv'"
   ]
  },
  {
   "cell_type": "markdown",
   "metadata": {},
   "source": [
    "BƯỚC 4: CHẠY DÒNG NÀY"
   ]
  },
  {
   "cell_type": "code",
   "execution_count": 19,
   "metadata": {},
   "outputs": [
    {
     "data": {
      "text/html": [
       "<div>\n",
       "<style scoped>\n",
       "    .dataframe tbody tr th:only-of-type {\n",
       "        vertical-align: middle;\n",
       "    }\n",
       "\n",
       "    .dataframe tbody tr th {\n",
       "        vertical-align: top;\n",
       "    }\n",
       "\n",
       "    .dataframe thead th {\n",
       "        text-align: right;\n",
       "    }\n",
       "</style>\n",
       "<table border=\"1\" class=\"dataframe\">\n",
       "  <thead>\n",
       "    <tr style=\"text-align: right;\">\n",
       "      <th></th>\n",
       "      <th>post_id</th>\n",
       "      <th>post_text</th>\n",
       "      <th>post_time</th>\n",
       "      <th>post_image</th>\n",
       "      <th>post_image_description</th>\n",
       "      <th>post_url</th>\n",
       "      <th>Unnamed: 6</th>\n",
       "      <th>ocr_text</th>\n",
       "    </tr>\n",
       "  </thead>\n",
       "  <tbody>\n",
       "    <tr>\n",
       "      <th>0</th>\n",
       "      <td>1474638926797903</td>\n",
       "      <td>\"Mình sẽ cố gắng tiết kiệm\"  Tôi khi có tiền:</td>\n",
       "      <td>2023-09-06 20:31:23</td>\n",
       "      <td>NaN</td>\n",
       "      <td>['Có thể là hình ảnh về 1 người và văn bản']</td>\n",
       "      <td>https://m.facebook.com/groups/625122365082901/...</td>\n",
       "      <td>NaN</td>\n",
       "      <td>['Dibluishx']</td>\n",
       "    </tr>\n",
       "    <tr>\n",
       "      <th>1</th>\n",
       "      <td>3507067906284386</td>\n",
       "      <td>linh ơi là linh 🐧</td>\n",
       "      <td>2023-04-30 12:51:06</td>\n",
       "      <td>NaN</td>\n",
       "      <td>['Không có mô tả ảnh.']</td>\n",
       "      <td>https://m.facebook.com/groups/tiemtaphoameme/p...</td>\n",
       "      <td>NaN</td>\n",
       "      <td>['Việt Tân', '1,2 triệu người thích Trang này,...</td>\n",
       "    </tr>\n",
       "    <tr>\n",
       "      <th>2</th>\n",
       "      <td>918584235491787</td>\n",
       "      <td>Mong ad duyệt ạ!</td>\n",
       "      <td>2022-01-20 21:04:51</td>\n",
       "      <td>NaN</td>\n",
       "      <td>['Không có mô tả ảnh.']</td>\n",
       "      <td>https://m.facebook.com/groups/vietnammemes/per...</td>\n",
       "      <td>NaN</td>\n",
       "      <td>['Nhìn mặt cũng chiến đấy', 'Thể đã bao giờ ăn...</td>\n",
       "    </tr>\n",
       "    <tr>\n",
       "      <th>3</th>\n",
       "      <td>6541618795850378</td>\n",
       "      <td>tưởng trúng vé số :))</td>\n",
       "      <td>2023-05-16 13:06:33</td>\n",
       "      <td>NaN</td>\n",
       "      <td>['Không có mô tả ảnh.']</td>\n",
       "      <td>https://m.facebook.com/groups/3162507603761531...</td>\n",
       "      <td>NaN</td>\n",
       "      <td>['SÁNG HÔM', 'ĐÓ , BỐ TÔI', 'CHO 200K', 'TIÊU ...</td>\n",
       "    </tr>\n",
       "    <tr>\n",
       "      <th>4</th>\n",
       "      <td>6924221144256806</td>\n",
       "      <td>Hm</td>\n",
       "      <td>2023-09-03 12:50:01</td>\n",
       "      <td>NaN</td>\n",
       "      <td>[\"Có thể là hình ảnh về văn bản cho biết 'con ...</td>\n",
       "      <td>https://m.facebook.com/groups/3162507603761531...</td>\n",
       "      <td>NaN</td>\n",
       "      <td>['con giân còn lộ to', 'mẹ đi chợ về vẫn mua',...</td>\n",
       "    </tr>\n",
       "  </tbody>\n",
       "</table>\n",
       "</div>"
      ],
      "text/plain": [
       "            post_id                                      post_text  \\\n",
       "0  1474638926797903  \"Mình sẽ cố gắng tiết kiệm\"  Tôi khi có tiền:   \n",
       "1  3507067906284386                              linh ơi là linh 🐧   \n",
       "2   918584235491787                               Mong ad duyệt ạ!   \n",
       "3  6541618795850378                          tưởng trúng vé số :))   \n",
       "4  6924221144256806                                             Hm   \n",
       "\n",
       "             post_time  post_image  \\\n",
       "0  2023-09-06 20:31:23         NaN   \n",
       "1  2023-04-30 12:51:06         NaN   \n",
       "2  2022-01-20 21:04:51         NaN   \n",
       "3  2023-05-16 13:06:33         NaN   \n",
       "4  2023-09-03 12:50:01         NaN   \n",
       "\n",
       "                              post_image_description  \\\n",
       "0       ['Có thể là hình ảnh về 1 người và văn bản']   \n",
       "1                            ['Không có mô tả ảnh.']   \n",
       "2                            ['Không có mô tả ảnh.']   \n",
       "3                            ['Không có mô tả ảnh.']   \n",
       "4  [\"Có thể là hình ảnh về văn bản cho biết 'con ...   \n",
       "\n",
       "                                            post_url  Unnamed: 6  \\\n",
       "0  https://m.facebook.com/groups/625122365082901/...         NaN   \n",
       "1  https://m.facebook.com/groups/tiemtaphoameme/p...         NaN   \n",
       "2  https://m.facebook.com/groups/vietnammemes/per...         NaN   \n",
       "3  https://m.facebook.com/groups/3162507603761531...         NaN   \n",
       "4  https://m.facebook.com/groups/3162507603761531...         NaN   \n",
       "\n",
       "                                            ocr_text  \n",
       "0                                      ['Dibluishx']  \n",
       "1  ['Việt Tân', '1,2 triệu người thích Trang này,...  \n",
       "2  ['Nhìn mặt cũng chiến đấy', 'Thể đã bao giờ ăn...  \n",
       "3  ['SÁNG HÔM', 'ĐÓ , BỐ TÔI', 'CHO 200K', 'TIÊU ...  \n",
       "4  ['con giân còn lộ to', 'mẹ đi chợ về vẫn mua',...  "
      ]
     },
     "execution_count": 19,
     "metadata": {},
     "output_type": "execute_result"
    }
   ],
   "source": [
    "dataset = pd.read_csv(data_path)\n",
    "dataset['post_text'] = dataset['post_text'].astype(str)\n",
    "dataset.head(5)"
   ]
  },
  {
   "cell_type": "markdown",
   "metadata": {},
   "source": [
    "BƯỚC 5: CHẠY DÒNG NÀY"
   ]
  },
  {
   "cell_type": "code",
   "execution_count": 26,
   "metadata": {},
   "outputs": [
    {
     "name": "stdout",
     "output_type": "stream",
     "text": [
      "Annotated:  129\n"
     ]
    }
   ],
   "source": [
    "image_list = []\n",
    "\n",
    "annotated_load = pd.read_csv(annotated_file_name) if os.path.exists(annotated_file_name) else pd.DataFrame(columns=['post_id', 'label'])\n",
    "annotated_count = 0\n",
    "\n",
    "all_images = glob.glob(image_path + '/*.jpg')\n",
    "for filename in all_images:\n",
    "    path, name = filename, os.path.basename(filename).split('.')[0]\n",
    "    data = dataset[dataset['post_id'] == int(name)]\n",
    "    if int(name) in annotated_load['post_id'].values.tolist():\n",
    "        annotated_count += 1\n",
    "        continue\n",
    "    image_list.append((data['post_text'].values[0], path, name))\n",
    "print('Annotated: ', annotated_count)\n",
    "labels = ['Definitely hateful', 'Probably hateful', 'Not sure', 'Probably not hateful', 'Definitely not hateful', 'Discard']\n"
   ]
  },
  {
   "cell_type": "markdown",
   "metadata": {},
   "source": [
    "BƯỚC 6: CHẠY DÒNG NÀY và tiến hành gán nhãn"
   ]
  },
  {
   "cell_type": "code",
   "execution_count": 27,
   "metadata": {},
   "outputs": [
    {
     "data": {
      "application/vnd.jupyter.widget-view+json": {
       "model_id": "1a9d006d6f25408b80464eda5c8dfb45",
       "version_major": 2,
       "version_minor": 0
      },
      "text/plain": [
       "VBox(children=(Output(), Output(), Output()))"
      ]
     },
     "metadata": {},
     "output_type": "display_data"
    }
   ],
   "source": [
    "\n",
    "widget = jp.annotate(examples= image_list, labels=labels,\n",
    "                     x_widget_factory=jp.widgets.x.multiple(\n",
    "                         factories=[jp.widgets.x.html(),jp.widgets.x.image(width=500, height=500), jp.widgets.x.html()],\n",
    "                         vertical_layout=True,\n",
    "                     )\n",
    ")\n",
    "display(widget)"
   ]
  },
  {
   "cell_type": "markdown",
   "metadata": {},
   "source": [
    "BƯỚC 7: CHẠY DÒNG NÀY. sau khi gán nhãn xong, dòng này sẽ giúp bạn lưu lại tiến trình gán nhãn của mình"
   ]
  },
  {
   "cell_type": "markdown",
   "metadata": {},
   "source": [
    "Nếu bạn gán nhãn hết rồi thì không sao, còn nếu chưa hết, bạn có thể mở lại bằng cách chạy lại từ BƯỚC 5 hoặc chạy lại từ đầu cũng được"
   ]
  },
  {
   "cell_type": "code",
   "execution_count": 28,
   "metadata": {},
   "outputs": [],
   "source": [
    "# save every 30s\n",
    "\n",
    "def save():\n",
    "    threading.Timer(60.0, save).start()\n",
    "    result = []\n",
    "    for i in widget.session.annotated_examples:\n",
    "        text, id, label = i.x[0], i.x[2], i.y\n",
    "        result.append((id, label))\n",
    "    # save annotated data\n",
    "    annotated = pd.DataFrame(result, columns=['post_id', 'label'])\n",
    "    annotated['post_id'] = annotated['post_id'].astype(pd.Int64Dtype())\n",
    "    annotated_data = pd.read_csv(annotated_file_name) if os.path.exists(annotated_file_name) else pd.DataFrame(columns=['post_id', 'label'])\n",
    "    annotated_data = pd.concat([annotated_data, annotated]).drop_duplicates(subset=['post_id'], keep='last')\n",
    "    annotated_data.to_csv(annotated_file_name, index=False)\n",
    "save()\n",
    "\n",
    "\n",
    "\n",
    "# result = []\n",
    "# for i in widget.session.annotated_examples:\n",
    "#     text, id, label = i.x[0], i.x[2], i.y\n",
    "#     result.append((id, label))\n",
    "# # save annotated data\n",
    "# annotated = pd.DataFrame(result, columns=['post_id', 'label'])\n",
    "# annotated['post_id'] = annotated['post_id'].astype(pd.Int64Dtype())\n",
    "# annotated_data = pd.read_csv(annotated_file_name) if os.path.exists(annotated_file_name) else pd.DataFrame(columns=['post_id', 'label'])\n",
    "# annotated_data = pd.concat([annotated_data, annotated]).drop_duplicates(subset=['post_id'], keep='last')\n",
    "# annotated_data.to_csv(annotated_file_name, index=False)\n",
    "# print('Annotated: ', len(annotated_data))\n",
    "# print('remaining: ', len(all_images) - len(annotated_data))\n"
   ]
  },
  {
   "cell_type": "code",
   "execution_count": null,
   "metadata": {},
   "outputs": [],
   "source": []
  }
 ],
 "metadata": {
  "kernelspec": {
   "display_name": "Python 3",
   "language": "python",
   "name": "python3"
  },
  "language_info": {
   "codemirror_mode": {
    "name": "ipython",
    "version": 3
   },
   "file_extension": ".py",
   "mimetype": "text/x-python",
   "name": "python",
   "nbconvert_exporter": "python",
   "pygments_lexer": "ipython3",
   "version": "3.11.5"
  }
 },
 "nbformat": 4,
 "nbformat_minor": 2
}
