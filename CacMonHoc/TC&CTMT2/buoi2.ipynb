{
 "cells": [
  {
   "cell_type": "markdown",
   "metadata": {},
   "source": [
    "tìm bù 2 nhanh, tìm số 1 đầu tiên, đảo các số bên trái"
   ]
  },
  {
   "cell_type": "markdown",
   "metadata": {},
   "source": [
    "NOT: A gạch đầu, ~A, A'. \n",
    "    Bản chất cổng not là cái nút tròn, cái tam giác là buffer\n",
    "AND: nếu đầu vào có 0 -> đầu ra = 0; \n",
    "    có thể có nhiều hơn 2 đầu vào -> 1 đầu ra; \n",
    "    nó là một phép nhân F = A.B\n",
    "OR: nếu đầu vào có 1 -> đầu ra = 1;\n",
    "    F = A+B\n",
    "NAND: Là cổng AND với nút tròn.\n",
    "    nếu đầu vào có 0 -> đầu ra = 1;\n",
    "    F = ~(AB)\n",
    "NOR: là cổng or với nút tròn\n",
    "    F = ~(A+B)\n"
   ]
  },
  {
   "cell_type": "markdown",
   "metadata": {},
   "source": [
    "x*1 = x\n",
    "x*x = x\n",
    "x*0 = 0\n",
    "x + 0 = x\n",
    "x + 1 = 1\n",
    "x + x = x\n",
    "x(y+z) = xy + xz\n",
    "x+yz = (x+y)(x+z)\n",
    "x*x' = 0\n",
    "x + x' = 1"
   ]
  },
  {
   "cell_type": "markdown",
   "metadata": {},
   "source": [
    "Biểu thức đối ngẫu\n",
    "hoán đổi toàn bộ AND <-> OR\n",
    "nếu biểu thức đầu đúng thì biểu thức sau cũng đúng"
   ]
  },
  {
   "cell_type": "markdown",
   "metadata": {},
   "source": [
    "Biểu thức đại số boolean\n",
    "f(x,y,z) = x + yz\n",
    "Hàm luận lý\n",
    "f = x + yz"
   ]
  },
  {
   "cell_type": "markdown",
   "metadata": {},
   "source": [
    "Bảng chân trị\n",
    "n biến -> 2^n dòng\n",
    "\n",
    "sắp xếp các biến theo trọng số từ lớn đến bé???"
   ]
  },
  {
   "cell_type": "markdown",
   "metadata": {},
   "source": [
    "Dạng chính tắc\n",
    "1 - min term: f= x'y'z + xyz: biến 1 không bù, biến 0 bù\n",
    "0 - max term: f= (x+y+z)(x+y'+z'): biến 0 không bù, biến 1 bù\n",
    "\n",
    "dạng m:\n",
    "1 - min term: f= m1+m2+m4\n",
    "0 - max term: f= M1M2M4 "
   ]
  },
  {
   "cell_type": "markdown",
   "metadata": {},
   "source": [
    "b1: tạo miền Karnaugh\n",
    "b2: chọn viết theo 0 hoặc 1\n",
    "b3: xác định ô liền kề\n",
    "b4: chọn 2^n càng lớn càng tốt, vòng khoanh sau có ít nhất 1 ô không thuộc vòng khoanh trước"
   ]
  }
 ],
 "metadata": {
  "language_info": {
   "name": "python"
  },
  "orig_nbformat": 4
 },
 "nbformat": 4,
 "nbformat_minor": 2
}
