{
 "cells": [
  {
   "cell_type": "markdown",
   "metadata": {},
   "source": [
    "HÀNG HOÁ, THỊ TRƯỜNG VÀ VAI TRÒ CỦA CÁC CHỦ THỂ THAM GIA THỊ TRƯỜNG"
   ]
  },
  {
   "cell_type": "markdown",
   "metadata": {},
   "source": [
    "SẢN XUẤT HÀNG HOÁ: là một mô hình tổ chứ kt bằng trao đổi buôn bán (loại 1 là tự cung tự túc)\n",
    "sản xuất hàng hoá != sản xuất\n",
    "Điều kiện ra đời:\n",
    "- phân công lao đọng xã hội\n",
    "- tách biệt về mặt kinh tế của các chủ thể sx (có quyền tư hữu)\n",
    "\n",
    "\n"
   ]
  },
  {
   "cell_type": "markdown",
   "metadata": {},
   "source": [
    "HÀNG HOÁ\n",
    "1. KN\n",
    "sản phẩm lao động, đáp ứng nhu cầu, qua trao đổi mua bán.\n",
    "đặc điểm:"
   ]
  },
  {
   "cell_type": "markdown",
   "metadata": {},
   "source": [
    "hữu hình | vô hình\n",
    "vật thể | phi vật thể\n",
    "độc lập | không độc lập\n",
    "không đồng thời | đồng thời\n",
    "\n",
    "vô hình bắt nguồn từ hữu hình\n",
    "\n",
    "THUỘC TÍNH\n",
    "\n",
    "giá trị sử dụng (chất lượng cuộc sống),...\n",
    "giá trị hàng hoá : lao động xã hội kết tinh (không phải cá nhân, phải được xã hội công nhận)\n"
   ]
  },
  {
   "cell_type": "markdown",
   "metadata": {},
   "source": [
    "tính 2 mặt của hàng hoá\n",
    "lao động cụ thể, lao động trừu tượng"
   ]
  },
  {
   "cell_type": "markdown",
   "metadata": {},
   "source": [
    "Giá trị cá biệt: Hao phí của từng nhóm tạo ra sản phẩm trong điều kiện riêng của họ.\n",
    "Giá trị xã hội: giá trị của sản phẩm cuối mà xã hội quyết định.\n",
    "    Dựa trên thời gian giao động xã hội cần thiết\n",
    "\n",
    "tăng năng suất -> giảm giá trị\n",
    "\n",
    "hao phí lao động quá khứ : kết tinh lao động để tạo ra sản phẩm trước đó"
   ]
  },
  {
   "cell_type": "markdown",
   "metadata": {},
   "source": [
    "lao động phức tạp: có đào tạo, chuyên môn\n",
    "lao động giản đơn: không đào tạo\n",
    "\n",
    "tăng năng suất: tăng số lượng, giảm hao phí, giảm giá trị\n",
    "tăng cường độ:  tăng số lượng, tăng hao phí, giá trị không đổi.\n"
   ]
  },
  {
   "cell_type": "markdown",
   "metadata": {},
   "source": [
    "Tiền tệ\n",
    "tiền là một loại hàng hoá đặc biệt\n",
    "\n",
    "mọi trường hợp đều thường có thước đo giá trị\n",
    "tiền tệ thế giới bao hàm tất cả chức năng khác."
   ]
  },
  {
   "cell_type": "code",
   "execution_count": null,
   "metadata": {
    "vscode": {
     "languageId": "plaintext"
    }
   },
   "outputs": [],
   "source": [
    "Dịch vụ là hàng hoá vô hình\n",
    "Giá trị sử dụng đất không đo bằng hao phí lao động\n",
    "Thương hiệu ngoài hao phí lao động, còn bảng năng\n",
    "Chứng khoáng, tiền không mang giá trị thật"
   ]
  },
  {
   "cell_type": "markdown",
   "metadata": {},
   "source": [
    "THỊ TRƯỜNG\n",
    "- nơi thiết lập quan hệ kinh tế mua bán\n",
    "phân loại\n",
    "- đối tượng trau đổi: hàng hoá, dịch vụ\n",
    "- phạm vi qh: trong nước, quốc tế\n",
    "\n",
    "\n",
    "vai trò\n",
    "thị trường thực hiện giá trị hàng hoá\n",
    "\n",
    "cơ chế thị trường\n",
    "hiện nay: phụ thuộc vào thị trường, bản thân và quy định pháp luật\n",
    "\n",
    "bao cấp: chỉ tiêu pháp lệnh (bắt buộc)\n",
    "\n",
    "nền kt thị trường vận hành theo cơ chế thị trường.\n",
    "đặc trunwgL so sánh với thời bao cấp\n",
    "- đa dạng chủ thể kt\n",
    "- thị trường quyết định\n",
    "- giá định trên nguyên tắc thị trường\n",
    "- kt mở\n",
    "\n",
    "Ưu thế\n",
    "- động lực cho sự sáng tạo\n",
    "- phát huy tiềm năng\n",
    "- thoã mãn tối đa nhu cầu\n",
    "\n",
    "\n",
    "Khuyết tật (ko tự sửa được, sinh ra cùng kt thị trường)\n",
    "rủi ro khủng hoảng\n",
    "cạn kiệt tài nguyên, suy thái môi trường\n",
    "phân hoá xã hội\n",
    "\n",
    "\n"
   ]
  },
  {
   "cell_type": "markdown",
   "metadata": {},
   "source": [
    "quy luật giá trị\n",
    "- điều tiết sx\n",
    "- điều tiết lưu thông\n",
    "- kích thích cải tiến kỹ thuật -> giảm giá trị cá biệt\n",
    "- chọn lọc tự nhiên\n",
    "\n",
    "quy luật cung cầu\n",
    "- cầu quyết định cung\n",
    "- cung tác động cầu: đảm bảo cầu được thực hiện (ko phải muốn là có), kích thích cầu\n",
    "- điều tiết\n",
    "\n",
    "quy luật cạnh tranh\n",
    "- có thị trường -> có cạnh tranh\n",
    "- cạnh tranh ở cả người mua và bán\n",
    "- cùng ngành, khác ngành\n",
    "\n",
    "hạn chế:\n",
    "- ảnh hưởng môi trường kinh doanh\n",
    "- lãng phí nguồn lực xã hội\n",
    "- ảnh hưởng phúc lợi xã hội\n",
    "\n"
   ]
  },
  {
   "cell_type": "markdown",
   "metadata": {},
   "source": [
    "1. "
   ]
  }
 ],
 "metadata": {
  "language_info": {
   "name": "python"
  },
  "orig_nbformat": 4
 },
 "nbformat": 4,
 "nbformat_minor": 2
}
