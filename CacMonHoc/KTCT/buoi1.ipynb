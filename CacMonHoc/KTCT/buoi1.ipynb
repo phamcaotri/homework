{
 "cells": [
  {
   "cell_type": "markdown",
   "metadata": {},
   "source": [
    "TIỀN ĐỀ\n",
    "Ở tk 15, phong kiến, có nhu cầu thị trường -> phát kiến địa lý -> thương nhân (Tây Ban Nha, Bồ Đào Nha) trau đổi không ngang giá, khai thác vàng -> trọng thương\n",
    "Antoine de Montchretien 1615: người đầu tiên đưa ra thuật ngữ \"kinh tế chính trị\" trong sách \"bàn luận về ktct\" (đề xuất)\n",
    "Adam Smith: người đầu tiên đưa môn ktct trở thành một môn khoa học.\n",
    "\n",
    "KTCT Mác leNin != KTCT\n",
    "\n",
    "Là môn học nghiên cứu các quan hệ kt để tìm ra các quy luật kt\n",
    "\n",
    "\n"
   ]
  },
  {
   "cell_type": "markdown",
   "metadata": {},
   "source": [
    "ĐỐI TƯỢNG\n",
    "SẢN XUẤT   ---- LƯU THÔNG\n",
    "\n",
    "trọng nông         trọng thương\n",
    "        KTct Mác lenin ---> nghiên cứu quan hệ sản xuất ko tách rời mà trong mqh biện chứng giữa llsx và kt thượng tầng\n",
    "\n",
    "\n",
    "\n"
   ]
  },
  {
   "cell_type": "code",
   "execution_count": null,
   "metadata": {
    "vscode": {
     "languageId": "plaintext"
    }
   },
   "outputs": [],
   "source": [
    "MỤC ĐÍCH\n",
    "Nghiên cứu tìm ra các quy luật chi phối quá trình sản xuất và trao đổi\n"
   ]
  },
  {
   "cell_type": "code",
   "execution_count": null,
   "metadata": {
    "vscode": {
     "languageId": "plaintext"
    }
   },
   "outputs": [],
   "source": [
    "ĐẶC ĐIỂM QLKT\n",
    "1. Khách quan\n",
    "\n",
    "chính sách kt mang tính chủ quan"
   ]
  },
  {
   "cell_type": "code",
   "execution_count": null,
   "metadata": {
    "vscode": {
     "languageId": "plaintext"
    }
   },
   "outputs": [],
   "source": [
    "PHƯƠNG PHÁP LUẬN\n",
    "Vận dụng phương pháp biện chứng duy vật\n",
    "1. Toàn diện khách quan\n",
    "2. Đặt đối tượng nghiên cứu trong mối liên hệ phổ biến\n",
    "3. Đặt đối tượng nghiên cứu trong trạng thái vận động, phát triển\n",
    "4. Quan điểm lịch sử cụ thể"
   ]
  },
  {
   "cell_type": "code",
   "execution_count": null,
   "metadata": {
    "vscode": {
     "languageId": "plaintext"
    }
   },
   "outputs": [],
   "source": [
    "Chức năng\n",
    "1. Nhận thức\n",
    "2. Thực tiễn\n",
    "3. Tư tưởng\n",
    "4. Phương pháp luận\n"
   ]
  },
  {
   "cell_type": "markdown",
   "metadata": {},
   "source": [
    "Trong chứng khoáng:\n",
    "Mỹ: giá cổ phiếu tăng giảm nhưng nn ko can thiệp\n",
    "VN: có giá sàn / trần trong 1 ngày"
   ]
  }
 ],
 "metadata": {
  "language_info": {
   "name": "python"
  },
  "orig_nbformat": 4
 },
 "nbformat": 4,
 "nbformat_minor": 2
}
