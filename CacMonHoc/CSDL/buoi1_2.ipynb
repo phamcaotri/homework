{
 "cells": [
  {
   "cell_type": "markdown",
   "metadata": {},
   "source": [
    "Mô hình dữ liệu mạng - không học\n",
    "stt 57"
   ]
  },
  {
   "cell_type": "markdown",
   "metadata": {},
   "source": [
    "**Mô hình thực thể kết hợp**\n",
    "Thực thể\n",
    "- Loại thực thể là sự vật hiện tượng cần quản lý\n",
    "- Thực thể là 1 thể hiện của loại thực thể, vd (1231,'Pham Cao Tri','01/01/2004')\n",
    "- Thuộc tính là những tính chất của loại thực thể\n",
    "    - Thuộc tính đơn trị: vd: mã số sv, tên\n",
    "    - Thuộc tính đa trị: vd: bằng cấp\n",
    "    - THuộc tính đa hợp: vd địa chỉ: DIACHI(SONHA,DUONG,PHUONG,QUAN), HOTEN(HO,TEN LOT,TEN)\n",
    "- Khoá: là thuộc tính dùng để nhận dạng thực thể. căn cứ giá trị của khoá có thể xác định **duy nhất** một thực thể.\n",
    "    - Một tập thực thể phải có 1 khoá.\n",
    "    - Có thể có nhiều thuộc tính khoá.\n",
    "    - Cần chọn 1 khoá làm khoá chính\n",
    "\n",
    "- Thực thể yếu: Là thực thể không tồn tại độc lập mà phải phụ thuộc vào 1 hoặc nhiều thực thể khác. VD: LẦN THI(SINH VIEN, MON HOC)\n",
    "\n",
    "Mối kết hợp (relationship)\n",
    "SV --- thuộc --- LỚP\n",
    "- Thuộc tính của mối kết hợp: giảng dạy(HỌC KỲ, NĂM). Thuộc tính này đại diện cho chung của các thực thể trong mối kết hợp đó.\n"
   ]
  },
  {
   "cell_type": "markdown",
   "metadata": {},
   "source": [
    "Lược đồ ER (ENTITY RELATIONSHIP)\n",
    "SV (1,1) --- thuộc --- (1,n) LỚP\n",
    "(chỉ số tối thiểu, chỉ số tối đa)\n",
    "\n",
    "B1 Xác định đỉnh (các loại thực thể)\n",
    "B2 Xác định mối kết hợp, thuộc tính\n",
    "B3 Xác định bản số (1-n, 1-1, n-n)\n",
    "B4 Dùng công cụ để vẽ MS Viso, Power Design\n"
   ]
  },
  {
   "cell_type": "markdown",
   "metadata": {},
   "source": [
    "MÔ HÌNH DỮ LIỆU QUAN HỆ\n",
    "Bảng: một quan hệ, mỗi dòng là một thực thể, mỗi cột là một thuộc tính\n",
    "\n",
    "||GIẢI THÍCH|| : Tân tử giải thích quan hệ"
   ]
  },
  {
   "cell_type": "markdown",
   "metadata": {},
   "source": [
    "THI(phong thi, mon thi, ngay thi, thoi gian)\n"
   ]
  },
  {
   "cell_type": "markdown",
   "metadata": {},
   "source": [
    "Integrity Constraint\n",
    "ràng buộc có thể thay đổi theo thời gian\n",
    "ràng buộc bắt buộc:"
   ]
  },
  {
   "cell_type": "markdown",
   "metadata": {},
   "source": [
    "Siêu khoá: một tập con của thuộc tính miễn sao phân biệt được các quan hệ đó\n",
    "Khoá: một tập tối thiểu cần có các thuộc tính để phân biệt được các quan hệ đó\n",
    "Khoá chính: Khoá tiện dụng nhất\n",
    "Tham chiếu : mô tả bổ sung của một thuộc tính ở một bảng khác -> dễ lưu trữ, tìm kiếm, cập nhật\n",
    "Khoá ngoại: khoá ngoại của quan hệ này là khoá chính của quan hệ khác. khoá ngoại tham chiếu đến khoá chính của quan hệ khác."
   ]
  },
  {
   "cell_type": "markdown",
   "metadata": {},
   "source": [
    "btvn vẽ ERD bài 1.3\n",
    "mô hình quan hệ sang ER trang 7.1"
   ]
  },
  {
   "cell_type": "markdown",
   "metadata": {},
   "source": [
    "Chuyển đổi ERD -> quan hệ\n"
   ]
  },
  {
   "cell_type": "markdown",
   "metadata": {},
   "source": [
    "b1. chuyển đổi các tập thực thể thành các lược đồ quan hệ\n",
    "b2. chuyển các mqh \n",
    "1 - 1: chọn quan hệ chứa nhiều khoá ngoại khác null nhất\n",
    "1 - n: chọn quan hệ 1 chứa khoá ngoại\n",
    "n - n: dùng bảng trung gian, làm khoá chính từ các khoá ngoại liên quan\n",
    "\n",
    "A n --- n B\n",
    " 1 -nCn- 1\n",
    "\n",
    "b3  chuyển đổi các tập thực thể yếu thành qh: tạo một bảng có khoá là kết hợp của thực thể mà nó phụ thuộc và khoá của nó.\n",
    "    chuyển đổi các thuộc tính đa trị (bằng cấp, địa chỉ) thành qh: tách thành một bảng mới, có khoá chính là kết hợp giữa quan hệ gốc và chính nó (hoặc mã riêng của chính nó)\n",
    "    chuyển đổi các mqh đa ngôi thành qh: tách ra một bảng chứa các khoạ ngoại của các quan hệ làm khoá chính\n",
    "\n",
    "\n"
   ]
  },
  {
   "cell_type": "markdown",
   "metadata": {},
   "source": [
    "Chuyển đổi sang ngôn ngữ hình thức\n",
    "làm thay đổi dữ liệu\n",
    "không làm thay đổi dữ liệu (truy vấn)"
   ]
  },
  {
   "cell_type": "markdown",
   "metadata": {},
   "source": [
    "đại số quan hệ\n",
    "phép chọn: ơp(R): chọn từ quan hệ R với điều kiện p\n",
    "vd: ơ Phai = 'Nam' (NhanVien) hoặc {NhanVien: Phai = 'Nam'}\n",
    "{NhanVien: Phai='Nam' ^ Year(NTNS) > 1975}\n",
    "\n",
    "phép chiếu: pi Ak (R)\n",
    "vd: pi HOTEN, PHAI (NhanVien) hoặc NhanVien[Ho ten, Phai]\n",
    "chọn trước chiếu sau - > luôn đúng,\n",
    "chiếu trước chọn sau -> có thể sai.\n",
    "\n",
    "Q <--- ơ Phai = 'Nam' (NhanVien), pi HOTEN, NHANVIEN (Q)\n",
    "hoặc pi HOTEN, NHAN VIEN (ơ Phai = 'Nam' (NhanVien))\n",
    "\n",
    "phép gán:\n",
    "\n",
    "A <-- B\n",
    "R(HO, TEN, LUONG) <-- pi HO, TEN, LUONG (NhanVien)\n",
    "\n",
    "LƯU Ý: nếu cùng 1 thuộc tính thì không thể kiểm tra 2 điều kiện bằng phép hội, tuyển; vì khi kiểm tra chỉ kiểm tra theo từng hàng\n"
   ]
  },
  {
   "cell_type": "markdown",
   "metadata": {},
   "source": [
    "Phép hội, giao, trừ, tích:\n",
    "R u S\n",
    "R n S\n",
    "R - S\n",
    "R x S\n",
    "\n",
    "điều kiện: khả hợp: số thuộc tính (cấu trúc như nhau), miền giá trị như nhau; tên có thể khác nhau.\n",
    "kết quả có cùng tên thuộc tính\n"
   ]
  },
  {
   "cell_type": "markdown",
   "metadata": {},
   "source": [
    "Phép hội: R u S = {t sao cho t thuộc R hoặc t thuộc S}\n",
    "tình huống xử lý: gộp sv được khen thưởng đợt 1 và 2. tìm sv được khen thưởng\n",
    "khi gộp, nếu có trùng dữ liệu thì sẽ bị gộp lại.\n",
    "\n",
    "Phép giao: R n S\n",
    "tình huống: tìm sv được khen thưởng 2 làn\n",
    "có thể viết R n S = R - (R - S)\n",
    "\n",
    "Phép trừ:\n",
    "R - S\n",
    "tình huống: tìm sv được khen thưởng đợt 1 nhưng ko được ở đợt 2.\n",
    "\n",
    "Phép tích:\n",
    "R x S\n",
    "tình huống: phân phối 3 môn học bắt buộc cho  3 sinh viên -> kết quả 9 dòng\n",
    "khi tích 2 bảng có nhiều dữ liệu -> xảy ra trường hợp thừa dữ liệu -> phải kiểm tra điều kiện trước khi tích.\n",
    "\n",
    "Phép kết:\n",
    "là phép tích có điều kiện (tích + chọn)\n",
    "R >< ĐIỀU KIỆN S\n",
    "\n",
    "kết bằng: R >< Masv = Trlop S : tên khác nhau\n",
    "kết tự nhiên: R >< Masv S : tên giống nhau\n",
    "\n",
    "kết ngoài (outer join)\n",
    "R <>< S left join\n",
    "R ><> S right join\n",
    "R <><> S full join\n",
    "\n",
    "kết quả không có sẽ được để null -> dùng thay thế phép trừ"
   ]
  },
  {
   "cell_type": "markdown",
   "metadata": {},
   "source": [
    "Vd: tìm nhân viên không làm việc\n",
    "NHANVIEN(manv,Hoten,Phai)\n",
    "PHANcoNG(manv, thoi gian)\n",
    "\n",
    "Cách 1: pi manv (NHANVIEN) - pi manv (PHANCONG)\n",
    "Cách 2: (NHANVIEN[MANV]) - (PHANCONG[MANV])\n",
    "\n",
    "vd: tìm mã nhân viên có mã đề án TH01 hoặc TH02 (tìm 2 điều kiện trên cùng thuộc tính, bắt buộc phải quét 2 lần)\n",
    "((PHANCONG: MADA = 'TH01)[MANV]) U ((PHANCONG: MADA = 'TH02)[MANV])\n",
    "\n",
    "\n"
   ]
  }
 ],
 "metadata": {
  "language_info": {
   "name": "python"
  },
  "orig_nbformat": 4
 },
 "nbformat": 4,
 "nbformat_minor": 2
}
