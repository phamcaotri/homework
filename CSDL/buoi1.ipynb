{
 "cells": [
  {
   "cell_type": "markdown",
   "metadata": {},
   "source": [
    "Mô hình dữ liệu mạng - không học"
   ]
  },
  {
   "cell_type": "markdown",
   "metadata": {},
   "source": [
    "Mô hình thực thể kết hợp\n",
    "Thực thể\n",
    "- Loại thực thể là sự vật hiện tượng cần quản lý\n",
    "- Thực thể là 1 thể hiện của loại thực thể, vd (1231,'Pham Cao Tri','01/01/2004')\n",
    "- Thuộc tính là những tính chất của loại thực thể\n",
    "    - Thuộc tính đơn trị: vd: mã số sv, tên\n",
    "    - Thuộc tính đa trị: vd: bằng cấp\n",
    "    - THuộc tính đa hợp: vd địa chỉ: DIACHI(SONHA,DUONG,PHUONG,QUAN), HOTEN(HO,TEN LOT,TEN)\n",
    "- Khoá: là thuộc tính dùng để nhận dạng thực thể. căn cứ giá trị của khoá có thể xác định **duy nhất** một thực thể.\n",
    "    - Một tập thực thể phải có 1 khoá.\n",
    "    - Có thể có nhiều thuộc tính khoá.\n",
    "    - Cần chọn 1 khoá làm khoá chính\n",
    "\n",
    "- Thực thể yếu: Là thực thể không tồn tại độc lập mà phải phụ thuộc vào 1 hoặc nhiều thực thể khác. VD: LẦN THI(SINH VIEN, MON HOC)\n",
    "\n",
    "Mối kết hợp (relationship)\n",
    "SV --- thuộc --- LỚP\n",
    "- Thuộc tính của mối kết hợp: giảng dạy(HỌC KỲ, NĂM). Thuộc tính này đại diện cho chung của các thực thể trong mối kết hợp đó.\n"
   ]
  },
  {
   "cell_type": "markdown",
   "metadata": {},
   "source": [
    "Lược đồ ER\n",
    "SV (1,1) --- thuộc --- (1,n) LỚP\n",
    "(chỉ số tối thiểu, chỉ số tối đa)\n",
    "\n"
   ]
  }
 ],
 "metadata": {
  "language_info": {
   "name": "python"
  },
  "orig_nbformat": 4
 },
 "nbformat": 4,
 "nbformat_minor": 2
}
