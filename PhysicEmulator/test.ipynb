{
 "cells": [
  {
   "cell_type": "code",
   "execution_count": 341,
   "metadata": {},
   "outputs": [],
   "source": [
    "import pandas as pd\n",
    "import numpy as np\n",
    "import random\n",
    "import tkinter as tk\n",
    "from tkinter import *\n",
    "import time"
   ]
  },
  {
   "cell_type": "code",
   "execution_count": 342,
   "metadata": {},
   "outputs": [],
   "source": [
    "class Player:\n",
    "    def say(self):\n",
    "        print(\"I'm player\")\n"
   ]
  },
  {
   "cell_type": "code",
   "execution_count": 343,
   "metadata": {},
   "outputs": [],
   "source": [
    "class Game:\n",
    "    def __init__(self):\n",
    "        pass\n",
    "    def _process(self, delta):\n",
    "        a = Player()\n",
    "        a.say()\n",
    "\n",
    "        pass\n",
    "    def run(self):\n",
    "        i = 0\n",
    "        while input() != 'q':\n",
    "            self._process(i)\n",
    "            i += 1\n",
    "        pass"
   ]
  },
  {
   "cell_type": "code",
   "execution_count": 344,
   "metadata": {},
   "outputs": [],
   "source": [
    "window = tk.Tk()\n",
    "window.title(\"Game\")\n",
    "window.geometry(\"1080x720\")\n",
    "window.resizable(0, 0)\n",
    "window.configure(background='black')\n"
   ]
  },
  {
   "cell_type": "code",
   "execution_count": 345,
   "metadata": {},
   "outputs": [],
   "source": [
    "button1 = Button(window, text=\"Start\", width=10, height=2, bg=\"white\", fg=\"black\")\n",
    "# bottom left\n",
    "button1.pack(side=BOTTOM, anchor=W, padx=10, pady=10)\n",
    "button2 = Button(window, text=\"Stop\", width=10, height=2, bg=\"white\", fg=\"black\")\n",
    "# right button 1\n",
    "button2.pack(side=BOTTOM, anchor=W, padx=10, pady=10)\n",
    "\n"
   ]
  },
  {
   "cell_type": "code",
   "execution_count": 346,
   "metadata": {},
   "outputs": [],
   "source": [
    "main_label = Label(window, height=20, width=10, bg=\"#063970\", fg=\"white\", font=\"consolas\", border=0, justify=LEFT, anchor=NW)\n",
    "# top, fill width and height\n",
    "main_label.pack(fill=X, padx=10, pady=10)"
   ]
  },
  {
   "cell_type": "code",
   "execution_count": 347,
   "metadata": {},
   "outputs": [],
   "source": [
    "label = Label(window, text=\"0\", bg=\"black\", fg=\"white\", font=\"none 12 bold\")\n",
    "# top left\n",
    "label.pack(side=TOP, anchor=W, padx=10, pady=10)"
   ]
  },
  {
   "cell_type": "code",
   "execution_count": 348,
   "metadata": {},
   "outputs": [
    {
     "data": {
      "text/plain": [
       "'after#386'"
      ]
     },
     "execution_count": 348,
     "metadata": {},
     "output_type": "execute_result"
    }
   ],
   "source": [
    "\n",
    "timer = time.time()\n",
    "def update():\n",
    "    global timer\n",
    "    label.configure(text=str(time.time() - timer))\n",
    "    # insert to main_label\n",
    "    main_label.configure(text=str(time.time() - timer))\n",
    "    window.after(1000, update)\n",
    "\n",
    "window.after(1000, update)\n"
   ]
  },
  {
   "cell_type": "code",
   "execution_count": 349,
   "metadata": {},
   "outputs": [],
   "source": [
    "window.mainloop()"
   ]
  }
 ],
 "metadata": {
  "kernelspec": {
   "display_name": "base",
   "language": "python",
   "name": "python3"
  },
  "language_info": {
   "codemirror_mode": {
    "name": "ipython",
    "version": 3
   },
   "file_extension": ".py",
   "mimetype": "text/x-python",
   "name": "python",
   "nbconvert_exporter": "python",
   "pygments_lexer": "ipython3",
   "version": "3.11.3"
  },
  "orig_nbformat": 4
 },
 "nbformat": 4,
 "nbformat_minor": 2
}
