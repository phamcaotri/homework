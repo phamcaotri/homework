{
 "cells": [
  {
   "cell_type": "code",
   "execution_count": 144,
   "metadata": {},
   "outputs": [],
   "source": [
    "import pandas as pd\n",
    "import numpy as np\n",
    "import tkinter as tk\n",
    "from tkinter import *\n",
    "from tkinter import ttk"
   ]
  },
  {
   "cell_type": "code",
   "execution_count": 145,
   "metadata": {},
   "outputs": [],
   "source": [
    "class Player:\n",
    "    def say(self):\n",
    "        print(\"I'm player\")\n"
   ]
  },
  {
   "cell_type": "code",
   "execution_count": 146,
   "metadata": {},
   "outputs": [],
   "source": [
    "class Game:\n",
    "    def __init__(self):\n",
    "        pass\n",
    "    def _process(self, delta):\n",
    "        a = Player()\n",
    "        a.say()\n",
    "\n",
    "        pass\n",
    "    def run(self):\n",
    "        i = 0\n",
    "        while input() != 'q':\n",
    "            self._process(i)\n",
    "            i += 1\n",
    "        pass"
   ]
  },
  {
   "cell_type": "code",
   "execution_count": 147,
   "metadata": {},
   "outputs": [],
   "source": [
    "default_font = \"consolas 10\"\n",
    "class Window(tk.Tk):\n",
    "    def __init__(self, title=\"RPG Game\", g=\"1080x720\", resizable=False, background='black'):\n",
    "        super().__init__()\n",
    "        self.title(title)\n",
    "        self.geometry(g)\n",
    "        self.resizable(resizable, resizable)\n",
    "        self.configure(background=background)\n",
    "        \n",
    "    def run(self):\n",
    "        self.mainloop()\n",
    "\n",
    "    def make_button(self, text=\"Button\", size=BOTTOM, anchor=W):\n",
    "        button = Button(self, text=text, width=10, height=2, bg=\"white\", fg=\"black\", font=default_font)\n",
    "        button.pack(side=size, anchor=anchor, padx=10, pady=10)\n",
    "        return button\n",
    "\n",
    "    "
   ]
  },
  {
   "cell_type": "code",
   "execution_count": 148,
   "metadata": {},
   "outputs": [
    {
     "data": {
      "text/plain": [
       "'2955028961344<lambda>'"
      ]
     },
     "execution_count": 148,
     "metadata": {},
     "output_type": "execute_result"
    }
   ],
   "source": [
    "window = Window()\n",
    "button1 = window.make_button(\"Reset\")\n",
    "button2 = window.make_button(\"Start\")\n",
    "button3 = window.make_button(\"Stop\")\n",
    "\n",
    "\n",
    "text_box = Text(window, height=20, width=10, bg=\"black\", fg=\"white\", font=\"consolas\", wrap=WORD)\n",
    "text_box.pack(fill=X, padx=10, pady=10)\n",
    "text_box.bind(\"<Key>\", lambda e: \"break\")\n",
    "\n",
    "\n"
   ]
  },
  {
   "cell_type": "code",
   "execution_count": 149,
   "metadata": {},
   "outputs": [],
   "source": [
    "text_box.insert(END, \"Hello\\n\")"
   ]
  },
  {
   "cell_type": "code",
   "execution_count": 150,
   "metadata": {},
   "outputs": [],
   "source": [
    "\n",
    "# button2.configure(command=start_timer)\n",
    "# button3.configure(command=stop)\n",
    "# button1.configure(command=reset)"
   ]
  },
  {
   "cell_type": "code",
   "execution_count": 151,
   "metadata": {},
   "outputs": [],
   "source": [
    "\n",
    "window.run()"
   ]
  }
 ],
 "metadata": {
  "kernelspec": {
   "display_name": "base",
   "language": "python",
   "name": "python3"
  },
  "language_info": {
   "codemirror_mode": {
    "name": "ipython",
    "version": 3
   },
   "file_extension": ".py",
   "mimetype": "text/x-python",
   "name": "python",
   "nbconvert_exporter": "python",
   "pygments_lexer": "ipython3",
   "version": "3.11.3"
  },
  "orig_nbformat": 4
 },
 "nbformat": 4,
 "nbformat_minor": 2
}
