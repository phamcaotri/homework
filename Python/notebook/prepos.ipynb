{
 "cells": [
  {
   "cell_type": "code",
   "execution_count": 3,
   "metadata": {},
   "outputs": [],
   "source": [
    "import os"
   ]
  },
  {
   "cell_type": "code",
   "execution_count": 8,
   "metadata": {},
   "outputs": [],
   "source": [
    "file_dir = r'C:\\Users\\caotr\\Documents\\GitHub\\homework\\Python\\notebook\\meme dataset 4'\n",
    "# find all files, if file is .mp4, delete it and other files with the same name + _lowquality.jpg\n",
    "for file in os.listdir(file_dir):\n",
    "    if file.endswith('.mp4'):\n",
    "        os.remove(os.path.join(file_dir, file))\n",
    "        os.remove(os.path.join(file_dir, file[:-4] + '_lowquality.jpg'))"
   ]
  }
 ],
 "metadata": {
  "kernelspec": {
   "display_name": "Python 3",
   "language": "python",
   "name": "python3"
  },
  "language_info": {
   "codemirror_mode": {
    "name": "ipython",
    "version": 3
   },
   "file_extension": ".py",
   "mimetype": "text/x-python",
   "name": "python",
   "nbconvert_exporter": "python",
   "pygments_lexer": "ipython3",
   "version": "3.11.5"
  },
  "orig_nbformat": 4
 },
 "nbformat": 4,
 "nbformat_minor": 2
}
