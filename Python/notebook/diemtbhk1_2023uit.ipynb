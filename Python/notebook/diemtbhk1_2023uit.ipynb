{
 "cells": [
  {
   "cell_type": "code",
   "execution_count": 110,
   "metadata": {},
   "outputs": [],
   "source": [
    "import numpy as np\n",
    "import pandas as pd\n",
    "import html\n",
    "import re\n",
    "from bs4 import BeautifulSoup\n",
    "from IPython.display import HTML\n",
    "import csv"
   ]
  },
  {
   "cell_type": "code",
   "execution_count": 111,
   "metadata": {},
   "outputs": [],
   "source": [
    "gt5 = 'htmldataset/gt5.htm'\n",
    "gt6 = 'htmldataset/gt6.htm'\n",
    "gt7 = 'htmldataset/gt7.htm'\n",
    "gt8 = 'htmldataset/gt8.htm'\n",
    "gt9 = 'htmldataset/gt9.htm'"
   ]
  },
  {
   "cell_type": "code",
   "execution_count": 112,
   "metadata": {},
   "outputs": [],
   "source": [
    "bs5 = BeautifulSoup(HTML(gt5).data, 'html.parser')\n",
    "bs6 = BeautifulSoup(HTML(gt6).data, 'html.parser')\n",
    "bs7 = BeautifulSoup(HTML(gt7).data, 'html.parser')\n",
    "bs8 = BeautifulSoup(HTML(gt8).data, 'html.parser')\n",
    "bs9 = BeautifulSoup(HTML(gt9).data, 'html.parser')"
   ]
  },
  {
   "cell_type": "code",
   "execution_count": 113,
   "metadata": {},
   "outputs": [],
   "source": [
    "# point = bs.find_all('tr')[5::]\n",
    "list5 = bs5.find_all('tr')[5::]\n",
    "list6 = bs6.find_all('tr')[5::]\n",
    "list7 = bs7.find_all('tr')[5::]\n",
    "list8 = bs8.find_all('tr')[5::]\n",
    "list9 = bs9.find_all('tr')[5::]\n"
   ]
  },
  {
   "cell_type": "code",
   "execution_count": 114,
   "metadata": {},
   "outputs": [],
   "source": [
    "def text(index):\n",
    "    return name.find_all('td')[index].text\n",
    "\n",
    "file_name = 'database/diemtbhk1_2023uit.csv'\n",
    "with open(file_name, 'w', newline='') as csvfile:\n",
    "    writer = csv.writer(csvfile)\n",
    "    writer.writerow(['MSSV', 'HoTen', 'Lop', 'Khoa', 'DiemTB'])\n",
    "    for name in list5:\n",
    "        writer.writerow([text(1), text(2), text(3), text(4), text(6).replace('-74', '')])\n",
    "    for name in list6:\n",
    "        writer.writerow([text(1), text(2), text(3), text(4), text(6).replace('-74', '')])\n",
    "    for name in list7:\n",
    "        writer.writerow([text(1), text(2), text(3), text(4), text(6).replace('-74', '')])\n",
    "    for name in list8:\n",
    "        writer.writerow([text(1), text(2), text(3), text(4), text(6).replace('-74', '')])\n",
    "    for name in list9:\n",
    "        writer.writerow([text(1), text(2), text(3), text(4), text(6).replace('-74', '')])"
   ]
  }
 ],
 "metadata": {
  "kernelspec": {
   "display_name": "base",
   "language": "python",
   "name": "python3"
  },
  "language_info": {
   "codemirror_mode": {
    "name": "ipython",
    "version": 3
   },
   "file_extension": ".py",
   "mimetype": "text/x-python",
   "name": "python",
   "nbconvert_exporter": "python",
   "pygments_lexer": "ipython3",
   "version": "3.11.3"
  },
  "orig_nbformat": 4
 },
 "nbformat": 4,
 "nbformat_minor": 2
}
