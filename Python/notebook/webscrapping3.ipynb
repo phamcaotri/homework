{
 "cells": [
  {
   "cell_type": "code",
   "execution_count": 32,
   "metadata": {},
   "outputs": [],
   "source": [
    "import pandas as pd\n",
    "import numpy as np\n",
    "from bs4 import BeautifulSoup\n",
    "from facebook_scraper import get_posts\n",
    "import csv\n",
    "import requests"
   ]
  },
  {
   "cell_type": "code",
   "execution_count": 33,
   "metadata": {},
   "outputs": [],
   "source": [
    "imagefolder_path = r'C:\\Users\\caotr\\Documents\\GitHub\\homework\\Python\\notebook\\imagetest'\n",
    "group_id = 3162507603761531\n"
   ]
  },
  {
   "cell_type": "code",
   "execution_count": 40,
   "metadata": {},
   "outputs": [
    {
     "name": "stderr",
     "output_type": "stream",
     "text": [
      "C:\\Users\\caotr\\AppData\\Roaming\\Python\\Python311\\site-packages\\IPython\\core\\interactiveshell.py:3526: UserWarning: A low page limit (<=2) might return no results, try increasing the limit\n",
      "  exec(code_obj, self.user_global_ns, self.user_ns)\n"
     ]
    },
    {
     "ename": "HTTPError",
     "evalue": "404 Client Error: Not Found for url: https://m.facebook.com/https://m.facebook.com/groups/3162507603761531/permalink/6969237513088502//",
     "output_type": "error",
     "traceback": [
      "\u001b[1;31m---------------------------------------------------------------------------\u001b[0m",
      "\u001b[1;31mHTTPError\u001b[0m                                 Traceback (most recent call last)",
      "\u001b[1;32mc:\\Users\\caotr\\Documents\\GitHub\\homework\\Python\\notebook\\webscrapping3.ipynb Cell 3\u001b[0m line \u001b[0;36m4\n\u001b[0;32m      <a href='vscode-notebook-cell:/c%3A/Users/caotr/Documents/GitHub/homework/Python/notebook/webscrapping3.ipynb#W3sZmlsZQ%3D%3D?line=1'>2</a>\u001b[0m post_content \u001b[39m=\u001b[39m []\n\u001b[0;32m      <a href='vscode-notebook-cell:/c%3A/Users/caotr/Documents/GitHub/homework/Python/notebook/webscrapping3.ipynb#W3sZmlsZQ%3D%3D?line=2'>3</a>\u001b[0m \u001b[39mfor\u001b[39;00m post \u001b[39min\u001b[39;00m posts:\n\u001b[1;32m----> <a href='vscode-notebook-cell:/c%3A/Users/caotr/Documents/GitHub/homework/Python/notebook/webscrapping3.ipynb#W3sZmlsZQ%3D%3D?line=3'>4</a>\u001b[0m     post_content\u001b[39m.\u001b[39mappend(\u001b[39mlist\u001b[39;49m(get_posts(post[\u001b[39m'\u001b[39;49m\u001b[39mpost_url\u001b[39;49m\u001b[39m'\u001b[39;49m], options\u001b[39m=\u001b[39;49m{\u001b[39m\"\u001b[39;49m\u001b[39mcomments\u001b[39;49m\u001b[39m\"\u001b[39;49m: \u001b[39mTrue\u001b[39;49;00m, \u001b[39m\"\u001b[39;49m\u001b[39mallow_extra_requests\u001b[39;49m\u001b[39m\"\u001b[39;49m: \u001b[39mFalse\u001b[39;49;00m})))\n",
      "File \u001b[1;32mc:\\Users\\caotr\\AppData\\Local\\Programs\\Python\\Python311\\Lib\\site-packages\\facebook_scraper\\facebook_scraper.py:1114\u001b[0m, in \u001b[0;36mFacebookScraper._generic_get_posts\u001b[1;34m(self, extract_post_fn, iter_pages_fn, page_limit, options, remove_source, latest_date, max_past_limit, **kwargs)\u001b[0m\n\u001b[0;32m   1111\u001b[0m counter \u001b[39m=\u001b[39m itertools\u001b[39m.\u001b[39mcount(\u001b[39m0\u001b[39m) \u001b[39mif\u001b[39;00m page_limit \u001b[39mis\u001b[39;00m \u001b[39mNone\u001b[39;00m \u001b[39melse\u001b[39;00m \u001b[39mrange\u001b[39m(page_limit)\n\u001b[0;32m   1113\u001b[0m logger\u001b[39m.\u001b[39mdebug(\u001b[39m\"\u001b[39m\u001b[39mStarting to iterate pages\u001b[39m\u001b[39m\"\u001b[39m)\n\u001b[1;32m-> 1114\u001b[0m \u001b[39mfor\u001b[39;00m i, page \u001b[39min\u001b[39;00m \u001b[39mzip\u001b[39m(counter, iter_pages_fn()):\n\u001b[0;32m   1115\u001b[0m     logger\u001b[39m.\u001b[39mdebug(\u001b[39m\"\u001b[39m\u001b[39mExtracting posts from page \u001b[39m\u001b[39m%s\u001b[39;00m\u001b[39m\"\u001b[39m, i)\n\u001b[0;32m   1116\u001b[0m     \u001b[39mfor\u001b[39;00m post_element \u001b[39min\u001b[39;00m page:\n",
      "File \u001b[1;32mc:\\Users\\caotr\\AppData\\Local\\Programs\\Python\\Python311\\Lib\\site-packages\\facebook_scraper\\page_iterators.py:87\u001b[0m, in \u001b[0;36mgeneric_iter_pages\u001b[1;34m(start_url, page_parser_cls, request_fn, **kwargs)\u001b[0m\n\u001b[0;32m     85\u001b[0m \u001b[39mtry\u001b[39;00m:\n\u001b[0;32m     86\u001b[0m     logger\u001b[39m.\u001b[39mdebug(\u001b[39m\"\u001b[39m\u001b[39mRequesting page from: \u001b[39m\u001b[39m%s\u001b[39;00m\u001b[39m\"\u001b[39m, next_url)\n\u001b[1;32m---> 87\u001b[0m     response \u001b[39m=\u001b[39m request_fn(next_url)\n\u001b[0;32m     88\u001b[0m     \u001b[39mbreak\u001b[39;00m\n\u001b[0;32m     89\u001b[0m \u001b[39mexcept\u001b[39;00m HTTPError \u001b[39mas\u001b[39;00m e:\n",
      "File \u001b[1;32mc:\\Users\\caotr\\AppData\\Local\\Programs\\Python\\Python311\\Lib\\site-packages\\facebook_scraper\\facebook_scraper.py:880\u001b[0m, in \u001b[0;36mFacebookScraper.get\u001b[1;34m(self, url, **kwargs)\u001b[0m\n\u001b[0;32m    878\u001b[0m                 response\u001b[39m.\u001b[39mhtml\u001b[39m.\u001b[39mhtml \u001b[39m=\u001b[39m f\u001b[39m.\u001b[39mread()\n\u001b[0;32m    879\u001b[0m response\u001b[39m.\u001b[39mhtml\u001b[39m.\u001b[39mhtml \u001b[39m=\u001b[39m response\u001b[39m.\u001b[39mhtml\u001b[39m.\u001b[39mhtml\u001b[39m.\u001b[39mreplace(\u001b[39m'\u001b[39m\u001b[39m<!--\u001b[39m\u001b[39m'\u001b[39m, \u001b[39m'\u001b[39m\u001b[39m'\u001b[39m)\u001b[39m.\u001b[39mreplace(\u001b[39m'\u001b[39m\u001b[39m-->\u001b[39m\u001b[39m'\u001b[39m, \u001b[39m'\u001b[39m\u001b[39m'\u001b[39m)\n\u001b[1;32m--> 880\u001b[0m response\u001b[39m.\u001b[39;49mraise_for_status()\n\u001b[0;32m    881\u001b[0m \u001b[39mself\u001b[39m\u001b[39m.\u001b[39mcheck_locale(response)\n\u001b[0;32m    883\u001b[0m \u001b[39m# Special handling for video posts that redirect to /watch/\u001b[39;00m\n",
      "File \u001b[1;32mc:\\Users\\caotr\\AppData\\Local\\Programs\\Python\\Python311\\Lib\\site-packages\\requests\\models.py:1021\u001b[0m, in \u001b[0;36mResponse.raise_for_status\u001b[1;34m(self)\u001b[0m\n\u001b[0;32m   1016\u001b[0m     http_error_msg \u001b[39m=\u001b[39m (\n\u001b[0;32m   1017\u001b[0m         \u001b[39mf\u001b[39m\u001b[39m\"\u001b[39m\u001b[39m{\u001b[39;00m\u001b[39mself\u001b[39m\u001b[39m.\u001b[39mstatus_code\u001b[39m}\u001b[39;00m\u001b[39m Server Error: \u001b[39m\u001b[39m{\u001b[39;00mreason\u001b[39m}\u001b[39;00m\u001b[39m for url: \u001b[39m\u001b[39m{\u001b[39;00m\u001b[39mself\u001b[39m\u001b[39m.\u001b[39murl\u001b[39m}\u001b[39;00m\u001b[39m\"\u001b[39m\n\u001b[0;32m   1018\u001b[0m     )\n\u001b[0;32m   1020\u001b[0m \u001b[39mif\u001b[39;00m http_error_msg:\n\u001b[1;32m-> 1021\u001b[0m     \u001b[39mraise\u001b[39;00m HTTPError(http_error_msg, response\u001b[39m=\u001b[39m\u001b[39mself\u001b[39m)\n",
      "\u001b[1;31mHTTPError\u001b[0m: 404 Client Error: Not Found for url: https://m.facebook.com/https://m.facebook.com/groups/3162507603761531/permalink/6969237513088502//"
     ]
    }
   ],
   "source": [
    "posts= list(get_posts(group=group_id, pages=1, options={\"comments\": 100, \"allow_extra_requests\": False}))\n",
    "post_content = []\n",
    "for post in posts:\n",
    "    post_content.append(list(get_posts(post['post_url'], options={\"comments\": True, \"allow_extra_requests\": False})))"
   ]
  },
  {
   "cell_type": "code",
   "execution_count": 39,
   "metadata": {},
   "outputs": [
    {
     "data": {
      "text/plain": [
       "[<generator object FacebookScraper._generic_get_posts at 0x0000026523E436F0>,\n",
       " <generator object FacebookScraper._generic_get_posts at 0x0000026523E43560>,\n",
       " <generator object FacebookScraper._generic_get_posts at 0x0000026525409AD0>,\n",
       " <generator object FacebookScraper._generic_get_posts at 0x0000026525409F80>,\n",
       " <generator object FacebookScraper._generic_get_posts at 0x000002652540B560>,\n",
       " <generator object FacebookScraper._generic_get_posts at 0x000002652540A8E0>,\n",
       " <generator object FacebookScraper._generic_get_posts at 0x000002652540B880>,\n",
       " <generator object FacebookScraper._generic_get_posts at 0x000002652540A110>,\n",
       " <generator object FacebookScraper._generic_get_posts at 0x000002652540AA70>,\n",
       " <generator object FacebookScraper._generic_get_posts at 0x000002652540B240>,\n",
       " <generator object FacebookScraper._generic_get_posts at 0x000002652540A750>,\n",
       " <generator object FacebookScraper._generic_get_posts at 0x000002652540A5C0>,\n",
       " <generator object FacebookScraper._generic_get_posts at 0x000002652540A430>,\n",
       " <generator object FacebookScraper._generic_get_posts at 0x000002652540A2A0>,\n",
       " <generator object FacebookScraper._generic_get_posts at 0x0000026525409DF0>,\n",
       " <generator object FacebookScraper._generic_get_posts at 0x000002652540B3D0>,\n",
       " <generator object FacebookScraper._generic_get_posts at 0x000002652540AF20>,\n",
       " <generator object FacebookScraper._generic_get_posts at 0x000002652540B0B0>,\n",
       " <generator object FacebookScraper._generic_get_posts at 0x000002652540B6F0>,\n",
       " <generator object FacebookScraper._generic_get_posts at 0x000002652540BA10>,\n",
       " <generator object FacebookScraper._generic_get_posts at 0x000002652540BBA0>]"
      ]
     },
     "execution_count": 39,
     "metadata": {},
     "output_type": "execute_result"
    }
   ],
   "source": [
    "posts\n",
    "#copy to clipboard\n",
    "post_content"
   ]
  },
  {
   "cell_type": "code",
   "execution_count": 36,
   "metadata": {},
   "outputs": [
    {
     "ename": "TypeError",
     "evalue": "sequence item 0: expected str instance, dict found",
     "output_type": "error",
     "traceback": [
      "\u001b[1;31m---------------------------------------------------------------------------\u001b[0m",
      "\u001b[1;31mTypeError\u001b[0m                                 Traceback (most recent call last)",
      "\u001b[1;32mc:\\Users\\caotr\\Documents\\GitHub\\homework\\Python\\notebook\\webscrapping3.ipynb Cell 5\u001b[0m line \u001b[0;36m2\n\u001b[0;32m      <a href='vscode-notebook-cell:/c%3A/Users/caotr/Documents/GitHub/homework/Python/notebook/webscrapping3.ipynb#W5sZmlsZQ%3D%3D?line=0'>1</a>\u001b[0m \u001b[39mimport\u001b[39;00m \u001b[39mpyperclip\u001b[39;00m\n\u001b[1;32m----> <a href='vscode-notebook-cell:/c%3A/Users/caotr/Documents/GitHub/homework/Python/notebook/webscrapping3.ipynb#W5sZmlsZQ%3D%3D?line=1'>2</a>\u001b[0m text \u001b[39m=\u001b[39m \u001b[39m'\u001b[39;49m\u001b[39m \u001b[39;49m\u001b[39m'\u001b[39;49m\u001b[39m.\u001b[39;49mjoin(posts)\n\u001b[0;32m      <a href='vscode-notebook-cell:/c%3A/Users/caotr/Documents/GitHub/homework/Python/notebook/webscrapping3.ipynb#W5sZmlsZQ%3D%3D?line=2'>3</a>\u001b[0m text\n",
      "\u001b[1;31mTypeError\u001b[0m: sequence item 0: expected str instance, dict found"
     ]
    }
   ],
   "source": [
    "import pyperclip\n",
    "text = ' '.join(posts)\n",
    "text"
   ]
  },
  {
   "cell_type": "code",
   "execution_count": null,
   "metadata": {},
   "outputs": [
    {
     "data": {
      "text/plain": [
       "'https://scontent.fsgn10-2.fna.fbcdn.net/v/t39.30808-6/400685843_1068307567848152_206746430794636146_n.jpg?stp=cp0_dst-jpg_e15_q65_s960x960&_nc_cat=107&ccb=1-7&_nc_sid=5f2048&_nc_ohc=LeLHoLUzgsAAX-bEGlq&_nc_ht=scontent.fsgn10-2.fna&oh=00_AfC264nWF1tacuWN6qpJI9iMC_R9UU1RZldSrh8gIFFwJw&oe=6554AF6B'"
      ]
     },
     "execution_count": 31,
     "metadata": {},
     "output_type": "execute_result"
    }
   ],
   "source": [
    "low_quality_images_url = r'https://scontent.fsgn10-2.fna.fbcdn.net/v/t39.30808-6/400685843_1068307567848152_206746430794636146_n.jpg?stp=cp0_dst-jpg_e15_q65_s320x320&_nc_cat=107&ccb=1-7&_nc_sid=5f2048&_nc_ohc=LeLHoLUzgsAAX-bEGlq&_nc_ht=scontent.fsgn10-2.fna&oh=00_AfC264nWF1tacuWN6qpJI9iMC_R9UU1RZldSrh8gIFFwJw&oe=6554AF6B'\n",
    "high_quality_images_utl = r'https://scontent.fsgn10-2.fna.fbcdn.net/v/t39.30808-6/400685843_1068307567848152_206746430794636146_n.jpg?_nc_cat=107&ccb=1-7&_nc_sid=5f2048&_nc_ohc=LeLHoLUzgsAAX-bEGlq&_nc_ht=scontent.fsgn10-2.fna&oh=00_AfA4BQkSiYAMi_FZ4XUpGScpdefsZWtV3Njuu_oU1KNYIA&oe=6554AF6B'\n",
    "def low_quality_images_url_to_high_quality_images_url(low_quality_images_url):\n",
    "    return low_quality_images_url.replace('s320x320', 's960x960')\n",
    "\n",
    "low_quality_images_url_to_high_quality_images_url(low_quality_images_url)\n"
   ]
  },
  {
   "cell_type": "code",
   "execution_count": null,
   "metadata": {},
   "outputs": [],
   "source": []
  }
 ],
 "metadata": {
  "kernelspec": {
   "display_name": "Python 3",
   "language": "python",
   "name": "python3"
  },
  "language_info": {
   "codemirror_mode": {
    "name": "ipython",
    "version": 3
   },
   "file_extension": ".py",
   "mimetype": "text/x-python",
   "name": "python",
   "nbconvert_exporter": "python",
   "pygments_lexer": "ipython3",
   "version": "3.11.5"
  }
 },
 "nbformat": 4,
 "nbformat_minor": 2
}
