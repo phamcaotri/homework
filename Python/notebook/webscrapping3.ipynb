{
 "cells": [
  {
   "cell_type": "code",
   "execution_count": 100,
   "metadata": {},
   "outputs": [],
   "source": [
    "import pandas as pd\n",
    "import numpy as np\n",
    "from bs4 import BeautifulSoup\n",
    "from facebook_scraper import get_posts\n",
    "import csv\n",
    "import requests"
   ]
  },
  {
   "cell_type": "code",
   "execution_count": 81,
   "metadata": {},
   "outputs": [],
   "source": [
    "imagefolder_path = r'C:\\Users\\caotr\\Documents\\GitHub\\homework\\Python\\notebook\\imagetest'\n",
    "group_id = \"3162507603761531\"\n",
    "cookie_file = r'C:\\Users\\caotr\\Documents\\GitHub\\homework\\Python\\notebook\\cookies.txt'\n"
   ]
  },
  {
   "cell_type": "code",
   "execution_count": 122,
   "metadata": {},
   "outputs": [],
   "source": [
    "posts= list(get_posts(post_urls=[group_id], cookies = cookie_file, options={\"allow_extra_requests\": True}))\n",
    "post_content = []\n",
    "# for post in posts:\n",
    "#     try:\n",
    "#         post_content.append(list(get_posts(post['post_url'], pages=1)))\n",
    "#     except:\n",
    "#         print('Error:', post['post_url'])\n"
   ]
  },
  {
   "cell_type": "code",
   "execution_count": 124,
   "metadata": {},
   "outputs": [
    {
     "data": {
      "text/plain": [
       "[{'original_request_url': 3162507603761531,\n",
       "  'post_url': 'https://m.facebook.com/3162507603761531',\n",
       "  'post_id': 7187966157882302,\n",
       "  'text': 'Group dành cho anh em đam mê 👇\\nLàng Cosplay',\n",
       "  'post_text': 'Group dành cho anh em đam mê 👇\\nLàng Cosplay',\n",
       "  'shared_text': '',\n",
       "  'original_text': None,\n",
       "  'time': datetime.datetime(2023, 9, 15, 15, 33, 59),\n",
       "  'timestamp': 1694766839,\n",
       "  'image': None,\n",
       "  'image_lowquality': 'https://scontent.fsgn10-1.fna.fbcdn.net/m1/v/t6/An_UvxJXg9tdnLU3Y5qjPi0200MLilhzPXUgxzGjQzUMaNcmjdZA6anyrngvkdub33NZzZhd51fpCAEzNHFhko5aKRFP5fS1w_lKwYrzcNLupv27.png?ccb=10-5&oh=00_AfD-g14fAnmq5McdGclIA0fOra0F-HvymtiG6caV1NcCGg&oe=6577DDB9&_nc_sid=7da55a',\n",
       "  'images': [],\n",
       "  'images_description': [],\n",
       "  'images_lowquality': ['https://scontent.fsgn10-1.fna.fbcdn.net/m1/v/t6/An_UvxJXg9tdnLU3Y5qjPi0200MLilhzPXUgxzGjQzUMaNcmjdZA6anyrngvkdub33NZzZhd51fpCAEzNHFhko5aKRFP5fS1w_lKwYrzcNLupv27.png?ccb=10-5&oh=00_AfD-g14fAnmq5McdGclIA0fOra0F-HvymtiG6caV1NcCGg&oe=6577DDB9&_nc_sid=7da55a',\n",
       "   'https://scontent.fsgn10-1.fna.fbcdn.net/m1/v/t6/An-SJYN61eefFdoaV8pa0G_5_APCa0prZaqkZGXpCFeUCLCg89UPOqSkSZxJkLy0hAKKpUIPEB91mo9yBBfcAqcwmpEu5jN_jmJufFtJoVJCUklu.png?ccb=10-5&oh=00_AfDFuFyYzctWlsOqk9Q2tnI27FgaoJPTa6okSP69Ux_xvg&oe=6577E29F&_nc_sid=7da55a',\n",
       "   'https://scontent.fsgn10-1.fna.fbcdn.net/m1/v/t6/An_0KlxkBZwTJgSV9p2pDQkaZcuO9nFP4R72nyZmCnWKIxG_MSUbtZ_uBFHkKhQVvjgeou7ijfWCAKaRfSRFqQS9RcziMUL4BTtfpxJ2KfylUgpq.png?ccb=10-5&oh=00_AfD08tNeDln82BG2gMeJ9YAl_PNmhf_ZfQGQ9TvsUoHX8A&oe=6577F313&_nc_sid=7da55a'],\n",
       "  'images_lowquality_description': ['Thích', 'Yêu thích', 'Wow'],\n",
       "  'video': None,\n",
       "  'video_duration_seconds': None,\n",
       "  'video_height': None,\n",
       "  'video_id': None,\n",
       "  'video_quality': None,\n",
       "  'video_size_MB': None,\n",
       "  'video_thumbnail': None,\n",
       "  'video_watches': None,\n",
       "  'video_width': None,\n",
       "  'likes': 669,\n",
       "  'comments': 63,\n",
       "  'shares': 1,\n",
       "  'link': None,\n",
       "  'links': [{'link': 'https://m.facebook.com/groups/langcosplay/?refid=18&_ft_=encrypted_tracking_data.0AY-iX6hHog61WGa6SI4bSSotboFXts1SeZqoZIbkYWQfENtZ8nFUNMzvAyfPaAMKKSeeABhZwB7qsMppKp_t6-cJ8psC1QR4-73saCpDZSpa4p7frn_8-4bUOH0um8M8T_d7VVV4kgOI67GdSmH9J5m9WckBFnu9tFKsL_sU0949R5A158lMmwheoG-Y55XeMOU9rKv2z030hP_HyZtrisRQnH9JkIcKYcnO0kxig91pwMQi_yuAMmIRuSueBvJLEjbkU1Yc0mDDShO6-juGqiLS1qtuIMlltoG3eQ3NipLyRtD0dwDbhFA5X9pU2KCBi9YvClc72QxKwjpcvEQCbH4ZLewsTyasNaMm7pbsj98XcyVNCyZ3zJDlvTUbmw3ATqTj-tCn7C4VRWTIqkml7r5xdskbgflXw3cELTrGvBr_QXWUkIyJob4ux6U9BN4-Vu5gt3UA_B3-A_jx45EJ-jq586NfLpJcLlOIUw_RGKe63ZVIkyFUzOV_uKES_GZTrnKUw_5JMW-RaHvevMlvAQHtxp7jqu8gg8gcSrCN0VhPu7WgM_GuTNtwLZVZmcvUlutIuOill33rO3E_emvsJt5xXCVdeR-Zub-94uiQ3W6-8sCoENsRoG18hE-XwbaZQB98X0Q90Mu4oDu9UyT4zqTCePbuQTkmORAMbFEY9HysNP4Ydjk9Zv83_xyHHAb2O4ZALkVIfgCUGDlh41y7kT00llQSQfZlPp1xW0dUyYWyUyHd_gG4lY-bPdoh2ksoAdYDgEbWD3qKrY5-21j0a1jisDdcpb8TIkf250q2Fw&__tn__=%2As%2As-R&paipv=0&eav=Afbleb9up_UQw5rr7xfmZeAyq5JuotMWtO8jQNgVQFnKOzU6bW2rvj7ArPLxreyRR4E',\n",
       "    'text': 'Làng Cosplay'},\n",
       "   {'link': 'https://m.facebook.com/groups/langcosplay/?refid=18&_ft_=encrypted_tracking_data.0AY-iX6hHog61WGa6SI4bSSotboFXts1SeZqoZIbkYWQfENtZ8nFUNMzvAyfPaAMKKSeeABhZwB7qsMppKp_t6-cJ8psC1QR4-73saCpDZSpa4p7frn_8-4bUOH0um8M8T_d7VVV4kgOI67GdSmH9J5m9WckBFnu9tFKsL_sU0949R5A158lMmwheoG-Y55XeMOU9rKv2z030hP_HyZtrisRQnH9JkIcKYcnO0kxig91pwMQi_yuAMmIRuSueBvJLEjbkU1Yc0mDDShO6-juGqiLS1qtuIMlltoG3eQ3NipLyRtD0dwDbhFA5X9pU2KCBi9YvClc72QxKwjpcvEQCbH4ZLewsTyasNaMm7pbsj98XcyVNCyZ3zJDlvTUbmw3ATqTj-tCn7C4VRWTIqkml7r5xdskbgflXw3cELTrGvBr_QXWUkIyJob4ux6U9BN4-Vu5gt3UA_B3-A_jx45EJ-jq586NfLpJcLlOIUw_RGKe63ZVIkyFUzOV_uKES_GZTrnKUw_5JMW-RaHvevMlvAQHtxp7jqu8gg8gcSrCN0VhPu7WgM_GuTNtwLZVZmcvUlutIuOill33rO3E_emvsJt5xXCVdeR-Zub-94uiQ3W6-8sCoENsRoG18hE-XwbaZQB98X0Q90Mu4oDu9UyT4zqTCePbuQTkmORAMbFEY9HysNP4Ydjk9Zv83_xyHHAb2O4ZALkVIfgCUGDlh41y7kT00llQSQfZlPp1xW0dUyYWyUyHd_gG4lY-bPdoh2ksoAdYDgEbWD3qKrY5-21j0a1jisDdcpb8TIkf250q2Fw&__tn__=%2As%2As-R&paipv=0&eav=Afbg7lZOGUWkw_xHcQ_-VYZ3XCYCdznMVgFVuyYY5lE4pwsRrET3hAKaXIGBVDL0dlY',\n",
       "    'text': 'Làng Cosplay'},\n",
       "   {'link': 'https://m.facebook.com/groups/3162507603761531/permalink/6969237513088502/?m_entstream_source=group&refid=18&_ft_=encrypted_tracking_data.0AY-iX6hHog61WGa6SI4bSSotboFXts1SeZqoZIbkYWQfENtZ8nFUNMzvAyfPaAMKKSeeABhZwB7qsMppKp_t6-cJ8psC1QR4-73saCpDZSpa4p7frn_8-4bUOH0um8M8T_d7VVV4kgOI67GdSmH9J5m9WckBFnu9tFKsL_sU0949R5A158lMmwheoG-Y55XeMOU9rKv2z030hP_HyZtrisRQnH9JkIcKYcnO0kxig91pwMQi_yuAMmIRuSueBvJLEjbkU1Yc0mDDShO6-juGqiLS1qtuIMlltoG3eQ3NipLyRtD0dwDbhFA5X9pU2KCBi9YvClc72QxKwjpcvEQCbH4ZLewsTyasNaMm7pbsj98XcyVNCyZ3zJDlvTUbmw3ATqTj-tCn7C4VRWTIqkml7r5xdskbgflXw3cELTrGvBr_QXWUkIyJob4ux6U9BN4-Vu5gt3UA_B3-A_jx45EJ-jq586NfLpJcLlOIUw_RGKe63ZVIkyFUzOV_uKES_GZTrnKUw_5JMW-RaHvevMlvAQHtxp7jqu8gg8gcSrCN0VhPu7WgM_GuTNtwLZVZmcvUlutIuOill33rO3E_emvsJt5xXCVdeR-Zub-94uiQ3W6-8sCoENsRoG18hE-XwbaZQB98X0Q90Mu4oDu9UyT4zqTCePbuQTkmORAMbFEY9HysNP4Ydjk9Zv83_xyHHAb2O4ZALkVIfgCUGDlh41y7kT00llQSQfZlPp1xW0dUyYWyUyHd_gG4lY-bPdoh2ksoAdYDgEbWD3qKrY5-21j0a1jisDdcpb8TIkf250q2Fw&__tn__=%2As%2As-R&paipv=0&eav=AfbbPlEpuB80-5vbB3diyNsuh_Phc_jMYxT_0etW96ncTea4awrye7q7hEs5LPtwzJI',\n",
       "    'text': ''}],\n",
       "  'user_id': '100010925465380',\n",
       "  'username': 'Nguyễn Ngọc Trưởng',\n",
       "  'user_url': 'https://facebook.com/truongngoc12345?groupid=3162507603761531&eav=Afb_XSK-pwSAcRPlJBZlCfroHw0TA-V0CspdLQq6WVDOnxE7If0Fqh_2couLb_iE7Hg&refid=18&_ft_=encrypted_tracking_data.0AY-iX6hHog61WGa6SI4bSSotboFXts1SeZqoZIbkYWQfENtZ8nFUNMzvAyfPaAMKKSeeABhZwB7qsMppKp_t6-cJ8psC1QR4-73saCpDZSpa4p7frn_8-4bUOH0um8M8T_d7VVV4kgOI67GdSmH9J5m9WckBFnu9tFKsL_sU0949R5A158lMmwheoG-Y55XeMOU9rKv2z030hP_HyZtrisRQnH9JkIcKYcnO0kxig91pwMQi_yuAMmIRuSueBvJLEjbkU1Yc0mDDShO6-juGqiLS1qtuIMlltoG3eQ3NipLyRtD0dwDbhFA5X9pU2KCBi9YvClc72QxKwjpcvEQCbH4ZLewsTyasNaMm7pbsj98XcyVNCyZ3zJDlvTUbmw3ATqTj-tCn7C4VRWTIqkml7r5xdskbgflXw3cELTrGvBr_QXWUkIyJob4ux6U9BN4-Vu5gt3UA_B3-A_jx45EJ-jq586NfLpJcLlOIUw_RGKe63ZVIkyFUzOV_uKES_GZTrnKUw_5JMW-RaHvevMlvAQHtxp7jqu8gg8gcSrCN0VhPu7WgM_GuTNtwLZVZmcvUlutIuOill33rO3E_emvsJt5xXCVdeR-Zub-94uiQ3W6-8sCoENsRoG18hE-XwbaZQB98X0Q90Mu4oDu9UyT4zqTCePbuQTkmORAMbFEY9HysNP4Ydjk9Zv83_xyHHAb2O4ZALkVIfgCUGDlh41y7kT00llQSQfZlPp1xW0dUyYWyUyHd_gG4lY-bPdoh2ksoAdYDgEbWD3qKrY5-21j0a1jisDdcpb8TIkf250q2Fw&__tn__=C-R&paipv=0',\n",
       "  'is_live': False,\n",
       "  'factcheck': None,\n",
       "  'shared_post_id': None,\n",
       "  'shared_time': None,\n",
       "  'shared_user_id': None,\n",
       "  'shared_username': None,\n",
       "  'shared_post_url': None,\n",
       "  'available': True,\n",
       "  'comments_full': None,\n",
       "  'reactors': None,\n",
       "  'w3_fb_url': None,\n",
       "  'reactions': None,\n",
       "  'reaction_count': 669,\n",
       "  'with': [{'name': 'Thế Giới MeMe',\n",
       "    'link': 'https://m.facebook.com/groups/3162507603761531/?refid=18&_ft_=encrypted_tracking_data.0AY-iX6hHog61WGa6SI4bSSotboFXts1SeZqoZIbkYWQfENtZ8nFUNMzvAyfPaAMKKSeeABhZwB7qsMppKp_t6-cJ8psC1QR4-73saCpDZSpa4p7frn_8-4bUOH0um8M8T_d7VVV4kgOI67GdSmH9J5m9WckBFnu9tFKsL_sU0949R5A158lMmwheoG-Y55XeMOU9rKv2z030hP_HyZtrisRQnH9JkIcKYcnO0kxig91pwMQi_yuAMmIRuSueBvJLEjbkU1Yc0mDDShO6-juGqiLS1qtuIMlltoG3eQ3NipLyRtD0dwDbhFA5X9pU2KCBi9YvClc72QxKwjpcvEQCbH4ZLewsTyasNaMm7pbsj98XcyVNCyZ3zJDlvTUbmw3ATqTj-tCn7C4VRWTIqkml7r5xdskbgflXw3cELTrGvBr_QXWUkIyJob4ux6U9BN4-Vu5gt3UA_B3-A_jx45EJ-jq586NfLpJcLlOIUw_RGKe63ZVIkyFUzOV_uKES_GZTrnKUw_5JMW-RaHvevMlvAQHtxp7jqu8gg8gcSrCN0VhPu7WgM_GuTNtwLZVZmcvUlutIuOill33rO3E_emvsJt5xXCVdeR-Zub-94uiQ3W6-8sCoENsRoG18hE-XwbaZQB98X0Q90Mu4oDu9UyT4zqTCePbuQTkmORAMbFEY9HysNP4Ydjk9Zv83_xyHHAb2O4ZALkVIfgCUGDlh41y7kT00llQSQfZlPp1xW0dUyYWyUyHd_gG4lY-bPdoh2ksoAdYDgEbWD3qKrY5-21j0a1jisDdcpb8TIkf250q2Fw&__tn__=C-R&paipv=0&eav=AfYy8Yw4vnfRDGvN2tiXQFFbFG-QTOewF0DjDNOhvtrhJRcjnLeknRKl9-T4JRhjjR0'}],\n",
       "  'page_id': None,\n",
       "  'sharers': None,\n",
       "  'image_id': None,\n",
       "  'image_ids': [],\n",
       "  'was_live': False,\n",
       "  'header': 'Nguyễn Ngọc Trưởng\\u200eThế Giới MeMe'}]"
      ]
     },
     "execution_count": 124,
     "metadata": {},
     "output_type": "execute_result"
    }
   ],
   "source": [
    "posts"
   ]
  },
  {
   "cell_type": "code",
   "execution_count": 57,
   "metadata": {},
   "outputs": [
    {
     "data": {
      "text/plain": [
       "[[],\n",
       " [],\n",
       " [],\n",
       " [],\n",
       " [],\n",
       " [],\n",
       " [],\n",
       " [],\n",
       " [],\n",
       " [],\n",
       " [],\n",
       " [],\n",
       " [],\n",
       " [],\n",
       " [],\n",
       " [],\n",
       " [],\n",
       " [],\n",
       " [],\n",
       " [],\n",
       " []]"
      ]
     },
     "execution_count": 57,
     "metadata": {},
     "output_type": "execute_result"
    }
   ],
   "source": [
    "post_content"
   ]
  },
  {
   "cell_type": "code",
   "execution_count": 36,
   "metadata": {},
   "outputs": [
    {
     "ename": "TypeError",
     "evalue": "sequence item 0: expected str instance, dict found",
     "output_type": "error",
     "traceback": [
      "\u001b[1;31m---------------------------------------------------------------------------\u001b[0m",
      "\u001b[1;31mTypeError\u001b[0m                                 Traceback (most recent call last)",
      "\u001b[1;32mc:\\Users\\caotr\\Documents\\GitHub\\homework\\Python\\notebook\\webscrapping3.ipynb Cell 5\u001b[0m line \u001b[0;36m2\n\u001b[0;32m      <a href='vscode-notebook-cell:/c%3A/Users/caotr/Documents/GitHub/homework/Python/notebook/webscrapping3.ipynb#W5sZmlsZQ%3D%3D?line=0'>1</a>\u001b[0m \u001b[39mimport\u001b[39;00m \u001b[39mpyperclip\u001b[39;00m\n\u001b[1;32m----> <a href='vscode-notebook-cell:/c%3A/Users/caotr/Documents/GitHub/homework/Python/notebook/webscrapping3.ipynb#W5sZmlsZQ%3D%3D?line=1'>2</a>\u001b[0m text \u001b[39m=\u001b[39m \u001b[39m'\u001b[39;49m\u001b[39m \u001b[39;49m\u001b[39m'\u001b[39;49m\u001b[39m.\u001b[39;49mjoin(posts)\n\u001b[0;32m      <a href='vscode-notebook-cell:/c%3A/Users/caotr/Documents/GitHub/homework/Python/notebook/webscrapping3.ipynb#W5sZmlsZQ%3D%3D?line=2'>3</a>\u001b[0m text\n",
      "\u001b[1;31mTypeError\u001b[0m: sequence item 0: expected str instance, dict found"
     ]
    }
   ],
   "source": [
    "import pyperclip\n",
    "text = ' '.join(posts)\n",
    "text"
   ]
  },
  {
   "cell_type": "code",
   "execution_count": null,
   "metadata": {},
   "outputs": [
    {
     "data": {
      "text/plain": [
       "'https://scontent.fsgn10-2.fna.fbcdn.net/v/t39.30808-6/400685843_1068307567848152_206746430794636146_n.jpg?stp=cp0_dst-jpg_e15_q65_s960x960&_nc_cat=107&ccb=1-7&_nc_sid=5f2048&_nc_ohc=LeLHoLUzgsAAX-bEGlq&_nc_ht=scontent.fsgn10-2.fna&oh=00_AfC264nWF1tacuWN6qpJI9iMC_R9UU1RZldSrh8gIFFwJw&oe=6554AF6B'"
      ]
     },
     "execution_count": 31,
     "metadata": {},
     "output_type": "execute_result"
    }
   ],
   "source": [
    "low_quality_images_url = r'https://scontent.fsgn10-2.fna.fbcdn.net/v/t39.30808-6/400685843_1068307567848152_206746430794636146_n.jpg?stp=cp0_dst-jpg_e15_q65_s320x320&_nc_cat=107&ccb=1-7&_nc_sid=5f2048&_nc_ohc=LeLHoLUzgsAAX-bEGlq&_nc_ht=scontent.fsgn10-2.fna&oh=00_AfC264nWF1tacuWN6qpJI9iMC_R9UU1RZldSrh8gIFFwJw&oe=6554AF6B'\n",
    "high_quality_images_utl = r'https://scontent.fsgn10-2.fna.fbcdn.net/v/t39.30808-6/400685843_1068307567848152_206746430794636146_n.jpg?_nc_cat=107&ccb=1-7&_nc_sid=5f2048&_nc_ohc=LeLHoLUzgsAAX-bEGlq&_nc_ht=scontent.fsgn10-2.fna&oh=00_AfA4BQkSiYAMi_FZ4XUpGScpdefsZWtV3Njuu_oU1KNYIA&oe=6554AF6B'\n",
    "def low_quality_images_url_to_high_quality_images_url(low_quality_images_url):\n",
    "    return low_quality_images_url.replace('s320x320', 's960x960')\n",
    "\n",
    "low_quality_images_url_to_high_quality_images_url(low_quality_images_url)\n"
   ]
  },
  {
   "cell_type": "code",
   "execution_count": null,
   "metadata": {},
   "outputs": [],
   "source": []
  }
 ],
 "metadata": {
  "kernelspec": {
   "display_name": "Python 3",
   "language": "python",
   "name": "python3"
  },
  "language_info": {
   "codemirror_mode": {
    "name": "ipython",
    "version": 3
   },
   "file_extension": ".py",
   "mimetype": "text/x-python",
   "name": "python",
   "nbconvert_exporter": "python",
   "pygments_lexer": "ipython3",
   "version": "3.11.5"
  }
 },
 "nbformat": 4,
 "nbformat_minor": 2
}
