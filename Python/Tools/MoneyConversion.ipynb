{
 "cells": [
  {
   "cell_type": "code",
   "execution_count": 93,
   "metadata": {},
   "outputs": [],
   "source": [
    "import requests\n",
    "from bs4 import BeautifulSoup\n",
    "from vietnam_number import n2w"
   ]
  },
  {
   "cell_type": "code",
   "execution_count": 94,
   "metadata": {},
   "outputs": [],
   "source": [
    "url = 'https://wise.com/vi/currency-converter/usd-to-vnd-rate'\n",
    "response = requests.get(url)"
   ]
  },
  {
   "cell_type": "code",
   "execution_count": 95,
   "metadata": {},
   "outputs": [
    {
     "name": "stdout",
     "output_type": "stream",
     "text": [
      "1 USD = 24052.50000 VND. Mid-market exchange rate at 2:27 UTC\n"
     ]
    }
   ],
   "source": [
    "if response.status_code != 200:\n",
    "    print(f\"error: {response.status_code}\")\n",
    "else:\n",
    "    soup = BeautifulSoup(response.text, 'html.parser')\n",
    "    rate_element = soup.find('span', class_=\"text-success\")\n",
    "    rate_value = rate_element.get_text()\n",
    "    time = soup.find('small', class_=\"m-r-1\").get_text()\n",
    "\n",
    "    print(f\"1 USD = {rate_value} VND. {time}\")\n"
   ]
  },
  {
   "cell_type": "code",
   "execution_count": 100,
   "metadata": {},
   "outputs": [
    {
     "name": "stdout",
     "output_type": "stream",
     "text": [
      "0.12 USD = 2886.2999999999997 VND. hai nghìn tám trăm tám mươi sáu đồng\n"
     ]
    }
   ],
   "source": [
    "input_value = input(\"Enter USD: \")\n",
    "usd = float(input_value)\n",
    "vnd = usd * float(rate_value.replace(',', ''))\n",
    "print(f\"{usd} USD = {vnd} VND. {n2w(str(int(vnd)))} đồng\")"
   ]
  }
 ],
 "metadata": {
  "kernelspec": {
   "display_name": "Python 3",
   "language": "python",
   "name": "python3"
  },
  "language_info": {
   "codemirror_mode": {
    "name": "ipython",
    "version": 3
   },
   "file_extension": ".py",
   "mimetype": "text/x-python",
   "name": "python",
   "nbconvert_exporter": "python",
   "pygments_lexer": "ipython3",
   "version": "3.11.5"
  },
  "orig_nbformat": 4
 },
 "nbformat": 4,
 "nbformat_minor": 2
}
