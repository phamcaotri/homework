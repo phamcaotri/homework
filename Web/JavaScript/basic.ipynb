{
 "cells": [
  {
   "cell_type": "markdown",
   "metadata": {},
   "source": [
    "In C++, you can use different types of numbers to store and manipulate numeric data, such as int, float, double, long, etc. Each type has a different range and precision. \n",
    "In JavaScript, you can use only one type of number, which is a 64-bit floating point number. This means that all numbers in JavaScript are decimals, even if they look like integers."
   ]
  },
  {
   "cell_type": "code",
   "execution_count": null,
   "metadata": {
    "vscode": {
     "languageId": "javascript"
    }
   },
   "outputs": [],
   "source": [
    "// // C++\n",
    "// int x = 10; // declare a variable of type int and assign it 10\n",
    "// const double PI = 3.14; // declare a constant of type double and assign it 3.14\n",
    "\n",
    "// JavaScript\n",
    "let x = 10; // declare a variable using let and assign it 10\n",
    "const PI = 3.14; // declare a constant using const and assign it 3.14\n",
    "let y = true; // declare a boolean variable y and assign it true\n",
    "let z; // declare a variable x without assigning it\n",
    "let t = null; // declare a variable x and assign it null\n",
    "let RED = Symbol(\"red\"); // declare a variable RED and assign it a symbol with description \"red\"\n",
    "let arr = [1, 2, 3, 4]; // declare and initialize an array with 4 elements\n",
    "console.log(arr[2]); // print 3\n",
    "console.log(arr.length); // print 4\n",
    "arr.push(5); // add a new element at the end of the array\n",
    "console.log(arr); // print [1, 2, 3, 4, 5]\n",
    "arr.pop(); // remove the last element from the array\n",
    "console.log(arr); // print [1, 2, 3, 4]\n",
    "arr.unshift(0); // add a new element at the beginning of the array\n",
    "console.log(arr); // print [0, 1, 2, 3, 4]\n",
    "arr.shift(); // remove the first element from the array\n",
    "console.log(arr); // print [1, 2, 3, 4]"
   ]
  },
  {
   "cell_type": "markdown",
   "metadata": {},
   "source": [
    "If you declare let x = (1,2,3,4), you are using the comma operator, which evaluates each expression from left to right and returns the value of the last expression. Therefore, x will be assigned the value 41."
   ]
  },
  {
   "cell_type": "code",
   "execution_count": null,
   "metadata": {
    "vscode": {
     "languageId": "javascript"
    }
   },
   "outputs": [],
   "source": [
    "let mySet = new Set([1, 2, 3]); // create a Set with three values\n",
    "mySet.add(4); // add a new value to the Set\n",
    "console.log(mySet.size); // print 4"
   ]
  },
  {
   "cell_type": "markdown",
   "metadata": {},
   "source": [
    "Map: A Map is a collection of key-value pairs that can be any type. A Map preserves the insertion order of its elements and allows you to access them by their keys. A Map has similar methods and properties as a Set, such as size, has(), delete(), clear(), values(), keys(), entries(), and forEach(). Additionally, a Map has the following methods:\n",
    "set(key, value) adds or updates a key-value pair in the Map and returns the Map itself.\n",
    "get(key) returns the value associated with the given key, or undefined if not found."
   ]
  },
  {
   "cell_type": "code",
   "execution_count": null,
   "metadata": {
    "vscode": {
     "languageId": "javascript"
    }
   },
   "outputs": [],
   "source": [
    "// // C++\n",
    "// char name[10] = \"Bob\"; // declare and initialize a char array with \"Bob\"\n",
    "// cout << name << endl; // print \"Bob\"\n",
    "\n",
    "// const char* greeting = \"Hello\"; // declare and initialize a string literal with \"Hello\"\n",
    "// cout << greeting << endl; // print \"Hello\"\n",
    "\n",
    "// string message = \"How are you?\"; // declare and initialize a std::string object with \"How are you?\"\n",
    "// cout << message << endl; // print \"How are you?\"\n",
    "\n",
    "// JavaScript\n",
    "let name = \"Bob\"; // declare and initialize a string with \"Bob\"\n",
    "console.log(name); // print \"Bob\"\n",
    "\n",
    "let greeting = 'Hello'; // declare and initialize a string with \"Hello\"\n",
    "console.log(greeting); // print \"Hello\"\n",
    "\n",
    "let message = `How are you?`; // declare and initialize a string with \"How are you?\"\n",
    "console.log(message); // print \"How are you?\"\n",
    "\n",
    "let template = `${greeting}, ${name}. ${message}`; // declare and initialize a template literal with expressions\n",
    "console.log(template); // print \"Hello, Bob. How are you?\""
   ]
  },
  {
   "cell_type": "markdown",
   "metadata": {},
   "source": []
  },
  {
   "cell_type": "code",
   "execution_count": null,
   "metadata": {
    "vscode": {
     "languageId": "javascript"
    }
   },
   "outputs": [],
   "source": [
    "// // C++\n",
    "// x += 5; // add 5 to x and assign the result to x\n",
    "// y == z; // compare y and z for equality\n",
    "// a && b; // logical AND operator\n",
    "// c | d; // bitwise OR operator\n",
    "\n",
    "// JavaScript\n",
    "x += 5; // same as in C++\n",
    "y == z; // same as in C++, but beware of type coercion\n",
    "a && b; // same as in C++, but can also be used for short-circuit evaluation\n",
    "c | d; // same as in C++, but also works for non-integer values\n"
   ]
  },
  {
   "cell_type": "code",
   "execution_count": null,
   "metadata": {
    "vscode": {
     "languageId": "javascript"
    }
   },
   "outputs": [],
   "source": [
    "// // C++\n",
    "// cout << \"Hello, world!\" << endl; // print \"Hello, world!\" to the standard output followed by a newline\n",
    "\n",
    "// int x;\n",
    "// cin >> x; // read an integer from the standard input and store it in x\n",
    "\n",
    "// cerr << \"An error occurred\" << endl; // print \"An error occurred\" to the standard error followed by a newline\n",
    "\n",
    "// clog << \"This is a log message\" << endl; // print \"This is a log message\" to the standard logging stream followed by a newline\n",
    "\n",
    "// JavaScript (in a web browser)\n",
    "console.log(\"Hello, world!\"); // print \"Hello, world!\" to the console\n",
    "\n",
    "let x = prompt(\"Enter a number\"); // display a dialog box that asks the user to enter a number and store it in x as a string\n",
    "\n",
    "console.error(\"An error occurred\"); // print \"An error occurred\" to the console as an error message\n",
    "\n",
    "console.info(\"This is a log message\"); // print \"This is a log message\" to the console as an information message\n"
   ]
  },
  {
   "cell_type": "code",
   "execution_count": null,
   "metadata": {
    "vscode": {
     "languageId": "javascript"
    }
   },
   "outputs": [],
   "source": [
    "// // C++\n",
    "// for (int i = 0; i < 10; i++) { // declare and initialize a loop counter variable i\n",
    "//     cout << i << endl; // print i to the standard output\n",
    "// }\n",
    "\n",
    "// while (true) { // loop while the condition is true\n",
    "//     int x;\n",
    "//     cin >> x; // read an integer from the standard input\n",
    "//     if (x == 0) break; // exit the loop if x is zero\n",
    "//     cout << x * x << endl; // print the square of x\n",
    "// }\n",
    "\n",
    "// do {\n",
    "//     int y;\n",
    "//     cin >> y; // read an integer from the standard input\n",
    "// } while (y != 0); // loop until y is zero\n",
    "\n",
    "// JavaScript\n",
    "for (let i = 0; i < 10; i++) { // declare and initialize a loop counter variable i using let keyword\n",
    "    console.log(i); // print i to the console\n",
    "}\n",
    "\n",
    "while (true) { // loop while the condition is true\n",
    "    let x = prompt(\"Enter a number\"); // read a string from a dialog box\n",
    "    x = Number(x); // convert the string to a number\n",
    "    if (x == 0) break; // exit the loop if x is zero\n",
    "    console.log(x * x); // print the square of x\n",
    "}\n",
    "\n",
    "do {\n",
    "    let y = prompt(\"Enter a number\"); // read a string from a dialog box\n",
    "    y = Number(y); // convert the string to a number\n",
    "} while (y != 0); // loop until y is zero\n",
    "\n",
    "// Additional features in JavaScript\n",
    "for (let item of [\"apple\", \"banana\", \"cherry\"]) { // loop through an iterable object using for-of loop\n",
    "    console.log(item); // print each item in the array\n",
    "}\n",
    "\n",
    "for (let key in {name: \"Alice\", age: 25}) { // loop through an object's properties using for-in loop\n",
    "    console.log(key); // print each key in the object\n",
    "}\n"
   ]
  },
  {
   "cell_type": "markdown",
   "metadata": {},
   "source": [
    "In C++, return_type function_name(parameter_list) { function_body }\n",
    "In JavaScript, function function_name(parameter_list) { function_body }\n",
    "    You can also use function expressions, which means you can assign a function to a variable or pass it as an argument to another function\n",
    "    You cannot use function overloading in JavaScript, but you can use default parameters, rest parameters, or arguments object to handle different number of arguments."
   ]
  },
  {
   "cell_type": "code",
   "execution_count": null,
   "metadata": {
    "vscode": {
     "languageId": "javascript"
    }
   },
   "outputs": [],
   "source": [
    "// // C++\n",
    "// int add(int x, int y) { // define a function that returns the sum of two integers\n",
    "//     return x + y;\n",
    "// }\n",
    "\n",
    "// double add(double x, double y) { // overload the function for double parameters\n",
    "//     return x + y;\n",
    "// }\n",
    "\n",
    "// JavaScript\n",
    "function add(x, y) { // define a function that returns the sum of two values\n",
    "    return x + y;\n",
    "}\n",
    "\n",
    "let multiply = function(x, y) { // define a function expression that returns the product of two values\n",
    "    return x * y;\n",
    "}\n",
    "\n",
    "function greet(name = \"Anonymous\") { // define a function with a default parameter\n",
    "    console.log(\"Hello, \" + name);\n",
    "}\n",
    "\n",
    "function sum(...numbers) { // define a function with a rest parameter\n",
    "    let total = 0;\n",
    "    for (let number of numbers) {\n",
    "        total += number;\n",
    "    }\n",
    "    return total;\n",
    "}\n"
   ]
  },
  {
   "cell_type": "code",
   "execution_count": null,
   "metadata": {
    "vscode": {
     "languageId": "javascript"
    }
   },
   "outputs": [],
   "source": [
    "\n"
   ]
  },
  {
   "cell_type": "markdown",
   "metadata": {},
   "source": [
    "In JavaScript, you can use different scopes to define the visibility of variables and functions, such as global scope, function scope, block scope, and lexical scope\n",
    "You can also use different keywords to declare variables and functions with different scoping rules, such as var, let, const, and function"
   ]
  },
  {
   "cell_type": "code",
   "execution_count": null,
   "metadata": {
    "vscode": {
     "languageId": "javascript"
    }
   },
   "outputs": [],
   "source": [
    "// // C++\n",
    "// int x = 10; // declare a global variable x\n",
    "\n",
    "// namespace foo { // define a namespace scope\n",
    "//     int y = 20; // declare a namespace variable y\n",
    "// }\n",
    "\n",
    "// class bar { // define a class scope\n",
    "//     public:\n",
    "//         static int z; // declare a static class variable z\n",
    "//         int w; // declare an instance class variable w\n",
    "//         bar(int n) { // define a constructor function\n",
    "//             w = n;\n",
    "//         }\n",
    "// };\n",
    "\n",
    "// int bar::z = 30; // define the static class variable z\n",
    "\n",
    "// void baz() { // define a function scope\n",
    "//     int u = 40; // declare a local variable u\n",
    "//     for (int v = 0; v < 10; v++) { // define a block scope\n",
    "//         cout << v << endl; // print v\n",
    "//     }\n",
    "// }\n",
    "\n",
    "// JavaScript\n",
    "var x = 10; // declare a global variable x using var keyword\n",
    "\n",
    "function foo() { // define a function scope using function keyword\n",
    "    var y = 20; // declare a local variable y using var keyword\n",
    "    console.log(y); // print y\n",
    "}\n",
    "\n",
    "if (true) { // define a block scope using if statement\n",
    "    let z = 30; // declare a block-scoped variable z using let keyword\n",
    "    console.log(z); // print z\n",
    "}\n",
    "\n",
    "for (let w = 0; w < 10; w++) { // define another block scope using for loop\n",
    "    console.log(w); // print w\n",
    "}\n",
    "\n",
    "const u = 40; // declare a constant variable u using const keyword\n",
    "\n",
    "function bar() { // define another function scope using function keyword\n",
    "    console.log(x); // print x (global variable)\n",
    "    console.log(u); // print u (global constant)\n",
    "}\n",
    "\n",
    "function baz() { // define another function scope using function keyword\n",
    "    var x = 50; // declare another local variable x using var keyword (shadowing the global x)\n",
    "    console.log(x); // print x (local variable)\n",
    "}\n",
    "\n",
    "function qux(x) { // define another function scope using function keyword with a parameter x\n",
    "    console.log(x); // print x (parameter)\n",
    "}\n",
    "\n",
    "function quux() { // define another function scope using function keyword\n",
    "    let y = 60; // declare another block-scoped variable y using let keyword\n",
    "    foo(); // call foo function (will print 20)\n",
    "    console.log(y); // print y (local variable)\n",
    "}\n"
   ]
  },
  {
   "cell_type": "markdown",
   "metadata": {},
   "source": [
    "In JavaScript, you can use objects to store key-value pairs that can be any data type.\n",
    "    You can also use methods, which are functions that belong to an object.\n",
    "    You can use prototypes to implement inheritance and delegation between objects.\n",
    "    You can also use constructor functions or classes to create objects with a common structure and behavior."
   ]
  },
  {
   "cell_type": "code",
   "execution_count": null,
   "metadata": {
    "vscode": {
     "languageId": "javascript"
    }
   },
   "outputs": [],
   "source": [
    "// // C++\n",
    "// class Person { // define a class for person objects\n",
    "//     private: // data members are private by default\n",
    "//         string name;\n",
    "//         int age;\n",
    "//     public: // member functions are public by default\n",
    "//         Person(string n, int a) { // constructor function\n",
    "//             name = n;\n",
    "//             age = a;\n",
    "//         }\n",
    "//         void introduce() { // member function\n",
    "//             cout << \"My name is \" + name + \" and I am \" + age + \" years old.\" << endl;\n",
    "//         }\n",
    "// };\n",
    "\n",
    "// class Student : public Person { // define a subclass for student objects that inherits from person class\n",
    "//     private:\n",
    "//         string school;\n",
    "//     public:\n",
    "//         Student(string n, int a, string s) : Person(n, a) { // constructor function that calls the base class constructor\n",
    "//             school = s;\n",
    "//         }\n",
    "//         void study() { // member function\n",
    "//             cout << \"I am studying at \" + school + \".\" << endl;\n",
    "//         }\n",
    "// };\n",
    "\n",
    "// JavaScript\n",
    "let person = { // define an object literal for a person object\n",
    "    name: \"Alice\", // key-value pair\n",
    "    age: 25, // key-value pair\n",
    "    introduce: function() { // method\n",
    "        console.log(\"My name is \" + this.name + \" and I am \" + this.age + \" years old.\");\n",
    "    }\n",
    "};\n",
    "\n",
    "let student = Object.create(person); // define an object that inherits from person object using Object.create()\n",
    "student.school = \"ABC University\"; // add a new property to student object\n",
    "student.study = function() { // add a new method to student object\n",
    "    console.log(\"I am studying at \" + this.school + \".\");\n",
    "};\n",
    "\n",
    "function Person(name, age) { // define a constructor function for person objects\n",
    "    this.name = name; // use this keyword to refer to the new object\n",
    "    this.age = age;\n",
    "    this.introduce = function() {\n",
    "        console.log(\"My name is \" + this.name + \" and I am \" + this.age + \" years old.\");\n",
    "    };\n",
    "}\n",
    "\n",
    "function Student(name, age, school) { // define a constructor function for student objects\n",
    "    Person.call(this, name, age); // call the base constructor function using call()\n",
    "    this.school = school;\n",
    "    this.study = function() {\n",
    "        console.log(\"I am studying at \" + this.school + \".\");\n",
    "    };\n",
    "}\n",
    "\n",
    "Student.prototype = Object.create(Person.prototype); // set the prototype of student objects to be the same as person objects\n",
    "\n",
    "class Person { // define a class for person objects using ES6 syntax\n",
    "    constructor(name, age) { // constructor method\n",
    "        this.name = name;\n",
    "        this.age = age;\n",
    "    }\n",
    "    introduce() { // method\n",
    "        console.log(\"My name is \" + this.name + \" and I am \" + this.age + \" years old.\");\n",
    "    }\n",
    "}\n",
    "\n",
    "class Student extends Person { // define a subclass for student objects using ES6 syntax\n",
    "    constructor(name, age, school) { // constructor method\n",
    "        super(name, age); // call the base constructor method using super()\n",
    "        this.school = school;\n",
    "    }\n",
    "    study() { // method\n",
    "        console.log(\"I am studying at \" + this.school + \".\");\n",
    "    }\n",
    "}\n"
   ]
  },
  {
   "cell_type": "markdown",
   "metadata": {},
   "source": [
    "To read a text file from the user’s computer, you can use the HTML5 File API, which allows you to access files selected by the user through an <input type=\"file\"> element.\n",
    "You can use the FileReader object to read the file content as a string, a data URL, or an array buffer. "
   ]
  },
  {
   "cell_type": "code",
   "execution_count": null,
   "metadata": {
    "vscode": {
     "languageId": "javascript"
    }
   },
   "outputs": [],
   "source": [
    "// Get the file input element\n",
    "var input = document.getElementById(\"fileInput\");\n",
    "\n",
    "// Add a change event listener\n",
    "input.addEventListener(\"change\", function() {\n",
    "  // Get the selected file\n",
    "  var file = input.files[0];\n",
    "\n",
    "  // Create a new FileReader object\n",
    "  var reader = new FileReader();\n",
    "\n",
    "  // Set up the onload event\n",
    "  reader.onload = function(e) {\n",
    "    // Get the file content as a string\n",
    "    var text = reader.result;\n",
    "\n",
    "    // Display the file content\n",
    "    alert(text);\n",
    "  };\n",
    "\n",
    "  // Read the file as a text file\n",
    "  reader.readAsText(file);\n",
    "});\n"
   ]
  },
  {
   "cell_type": "markdown",
   "metadata": {},
   "source": [
    "To write a text file and save it to the user’s computer, you can use the HTML5 Blob API, which allows you to create a blob object that represents a file-like object of immutable raw data. You can then use the URL.createObjectURL() method to create a URL for the blob object, and use the download attribute of an <a> element to trigger the download."
   ]
  },
  {
   "cell_type": "code",
   "execution_count": null,
   "metadata": {
    "vscode": {
     "languageId": "javascript"
    }
   },
   "outputs": [],
   "source": [
    "// Create some text data\n",
    "var text = \"Hello, world!\";\n",
    "\n",
    "// Create a blob object from the text\n",
    "var blob = new Blob([text], {type: \"text/plain\"});\n",
    "\n",
    "// Create a URL for the blob object\n",
    "var url = URL.createObjectURL(blob);\n",
    "\n",
    "// Create an anchor element\n",
    "var a = document.createElement(\"a\");\n",
    "\n",
    "// Set the href attribute to the URL\n",
    "a.href = url;\n",
    "\n",
    "// Set the download attribute to the file name\n",
    "a.download = \"test.txt\";\n",
    "\n",
    "// Append the anchor element to the document body\n",
    "document.body.appendChild(a);\n",
    "\n",
    "// Trigger the click event of the anchor element\n",
    "a.click();\n",
    "\n",
    "// Remove the anchor element from the document body\n",
    "document.body.removeChild(a);\n"
   ]
  },
  {
   "cell_type": "markdown",
   "metadata": {},
   "source": [
    "To read an image file from the user’s computer, you can use the same File API and FileReader object as before, but this time you will read the file as a data URL, which is a base64-encoded representation of the file content. You can then use this data URL as the source of an <img> element to display the image."
   ]
  },
  {
   "cell_type": "code",
   "execution_count": null,
   "metadata": {
    "vscode": {
     "languageId": "javascript"
    }
   },
   "outputs": [],
   "source": [
    "// Get the file input element\n",
    "var input = document.getElementById(\"fileInput\");\n",
    "\n",
    "// Add a change event listener\n",
    "input.addEventListener(\"change\", function() {\n",
    "  // Get the selected file\n",
    "  var file = input.files[0];\n",
    "\n",
    "  // Create a new FileReader object\n",
    "  var reader = new FileReader();\n",
    "\n",
    "  // Set up the onload event\n",
    "  reader.onload = function(e) {\n",
    "    // Get the file content as a data URL\n",
    "    var dataURL = reader.result;\n",
    "\n",
    "    // Create an image element\n",
    "    var img = document.createElement(\"img\");\n",
    "\n",
    "    // Set the src attribute to the data URL\n",
    "    img.src = dataURL;\n",
    "\n",
    "    // Append the image element to the document body\n",
    "    document.body.appendChild(img);\n",
    "  };\n",
    "\n",
    "  // Read the file as a data URL\n",
    "  reader.readAsDataURL(file);\n",
    "});\n"
   ]
  },
  {
   "cell_type": "markdown",
   "metadata": {},
   "source": [
    "To write an image file and save it to the user’s computer, you can use a similar approach as before, but this time you will need to convert the image data to a blob object first. You can use the canvas element and its context to draw the image and get its data as an array buffer."
   ]
  },
  {
   "cell_type": "code",
   "execution_count": null,
   "metadata": {
    "vscode": {
     "languageId": "javascript"
    }
   },
   "outputs": [],
   "source": [
    "// Get the image element by its id\n",
    "var img = document.getElementById(\"image\");\n",
    "\n",
    "// Create a canvas element\n",
    "var canvas = document.createElement(\"canvas\");\n",
    "\n",
    "// Set the canvas width and height to match the image size\n",
    "canvas.width = img.width;\n",
    "canvas.height = img.height;\n",
    "\n",
    "// Get the canvas context\n",
    "var context = canvas.getContext(\"2d\");\n",
    "\n",
    "// Draw the image on the canvas\n",
    "context.drawImage(img, 0, 0);\n",
    "\n",
    "// Get the image data as an array buffer\n",
    "var buffer = context.getImageData(0, 0, canvas.width, canvas.height).data.buffer;\n",
    "\n",
    "// Create a blob object from the buffer\n",
    "var blob = new Blob([buffer], {type: \"image/jpeg\"});\n",
    "\n",
    "// Create a URL for the blob object\n",
    "var url = URL.createObjectURL(blob);\n",
    "\n",
    "// Create an anchor element\n",
    "var a = document.createElement(\"a\");\n",
    "\n",
    "// Set the href attribute to the URL\n",
    "a.href = url;\n",
    "\n",
    "// Set the download attribute to the file name\n",
    "a.download = \"test.jpg\";\n",
    "\n",
    "// Append the anchor element to the document body\n",
    "document.body.appendChild(a);\n",
    "\n",
    "// Trigger the click event of the anchor element\n",
    "a.click();\n",
    "\n",
    "// Remove the anchor element from the document body\n",
    "document.body.removeChild(a);\n"
   ]
  },
  {
   "cell_type": "markdown",
   "metadata": {},
   "source": [
    "To read a CSV file from the user’s computer, you can use the same File API and FileReader object as before, but this time you will need to parse the file content as a CSV format. You can use a regular expression or a library like Papa Parse"
   ]
  },
  {
   "cell_type": "code",
   "execution_count": null,
   "metadata": {
    "vscode": {
     "languageId": "javascript"
    }
   },
   "outputs": [],
   "source": [
    "// Get the file input element\n",
    "var input = document.getElementById(\"fileInput\");\n",
    "\n",
    "// Add a change event listener\n",
    "input.addEventListener(\"change\", function() {\n",
    "  // Get the selected file\n",
    "  var file = input.files[0];\n",
    "\n",
    "  // Create a new FileReader object\n",
    "  var reader = new FileReader();\n",
    "\n",
    "  // Set up the onload event\n",
    "  reader.onload = function(e) {\n",
    "    // Get the file content as a string\n",
    "    var text = reader.result;\n",
    "\n",
    "    // Parse the CSV data\n",
    "    var data = Papa.parse(text, {header: true}).data;\n",
    "\n",
    "    // Create a table element\n",
    "    var table = document.createElement(\"table\");\n",
    "\n",
    "    // Create a table row for the header\n",
    "    var tr = document.createElement(\"tr\");\n",
    "\n",
    "    // Loop through the header fields\n",
    "    for (var key in data[0]) {\n",
    "      // Create a table cell for each header field\n",
    "      var th = document.createElement(\"th\");\n",
    "\n",
    "      // Set the cell text to the header field\n",
    "      th.textContent = key;\n",
    "\n",
    "      // Append the cell to the row\n",
    "      tr.appendChild(th);\n",
    "    }\n",
    "\n",
    "    // Append the row to the table\n",
    "    table.appendChild(tr);\n",
    "\n",
    "    // Loop through the data rows\n",
    "    for (var i = 0; i < data.length; i++) {\n",
    "      // Create a table row for each data row\n",
    "      var tr = document.createElement(\"tr\");\n",
    "\n",
    "      // Loop through the header fields\n",
    "      for (var key in data[i]) {\n",
    "        // Create a table cell for each data field\n",
    "        var td = document.createElement(\"td\");\n",
    "\n",
    "        // Set the cell text to the data field\n",
    "        td.textContent = data[i][key];\n",
    "\n",
    "        // Append the cell to the row\n",
    "        tr.appendChild(td);\n",
    "      }\n",
    "\n",
    "      // Append the row to the table\n",
    "      table.appendChild(tr);\n",
    "    }\n",
    "\n",
    "    // Append the table to the document body\n",
    "    document.body.appendChild(table);\n",
    "  };\n",
    "\n",
    "  // Read the file as a text file\n",
    "  reader.readAsText(file);\n",
    "});\n"
   ]
  },
  {
   "cell_type": "code",
   "execution_count": null,
   "metadata": {
    "vscode": {
     "languageId": "javascript"
    }
   },
   "outputs": [],
   "source": [
    "// Create some sample data as an array of objects\n",
    "var data = [\n",
    "    {name: \"Alice\", age: 25, city: \"New York\"},\n",
    "    {name: \"Bob\", age: 30, city: \"Los Angeles\"},\n",
    "    {name: \"Charlie\", age: 35, city: \"Chicago\"}\n",
    "  ];\n",
    "  \n",
    "  // Convert the data to a CSV string\n",
    "  var csv = Papa.unparse(data);\n",
    "  \n",
    "  // Create a blob object from the CSV string\n",
    "  var blob = new Blob([csv], {type: \"text/csv\"});\n",
    "  \n",
    "  // Create a URL for the blob object\n",
    "  var url = URL.createObjectURL(blob);\n",
    "  \n",
    "  // Create an anchor element\n",
    "  var a = document.createElement(\"a\");\n",
    "  \n",
    "  // Set the href attribute to the URL\n",
    "  a.href = url;\n",
    "  \n",
    "  // Set the download attribute to the file name\n",
    "  a.download = \"test.csv\";\n",
    "  \n",
    "  // Append the anchor element to the document body\n",
    "  document.body.appendChild(a);\n",
    "  \n",
    "  // Trigger the click event of the anchor element\n",
    "  a.click();\n",
    "  \n",
    "  // Remove the anchor element from the document body\n",
    "  document.body.removeChild(a);\n",
    "  "
   ]
  },
  {
   "cell_type": "markdown",
   "metadata": {},
   "source": [
    "<!-- This is an HTML file that uses an external CSS file -->\n",
    "<!DOCTYPE html>\n",
    "<html>\n",
    "<head>\n",
    "  <link rel=\"stylesheet\" href=\"style.css\"> <!-- This links to the CSS file -->\n",
    "</head>\n",
    "<body>\n",
    "  <h1>My Web Page</h1> <!-- This is an HTML element -->\n",
    "  <p>This is a paragraph.</p> <!-- This is another HTML element -->\n",
    "</body>\n",
    "</html>\n"
   ]
  },
  {
   "cell_type": "markdown",
   "metadata": {},
   "source": [
    "/* This is a CSS file that styles the HTML elements */\n",
    "h1 {\n",
    "  color: blue; /* This sets the text color of the h1 element to blue */\n",
    "  font-family: Arial; /* This sets the font family of the h1 element to Arial */\n",
    "}\n",
    "\n",
    "p {\n",
    "  color: red; /* This sets the text color of the p element to red */\n",
    "  font-size: 20px; /* This sets the font size of the p element to 20 pixels */\n",
    "}\n"
   ]
  },
  {
   "cell_type": "markdown",
   "metadata": {},
   "source": [
    "<!-- This is an HTML file that uses an internal CSS style -->\n",
    "<!DOCTYPE html>\n",
    "<html>\n",
    "<head>\n",
    "  <style>\n",
    "    /* This is a CSS style that applies to the HTML elements */\n",
    "    h1 {\n",
    "      color: green;\n",
    "      font-family: Times;\n",
    "    }\n",
    "\n",
    "    p {\n",
    "      color: red;\n",
    "      font-size: 20px;\n",
    "    }\n",
    "  </style>\n",
    "</head>\n",
    "<body>\n",
    "  <h1>My Web Page</h1>\n",
    "  <p>This is a paragraph.</p>\n",
    "</body>\n",
    "</html>\n"
   ]
  },
  {
   "cell_type": "markdown",
   "metadata": {},
   "source": [
    "<!-- This is an HTML file that uses inline CSS styles -->\n",
    "<!DOCTYPE html>\n",
    "<html>\n",
    "<body>\n",
    "  <h1 style=\"color: blue; font-family: Arial;\">My Web Page</h1> <!-- This applies a CSS style to the h1 element -->\n",
    "  <p style=\"color: red; font-size: 20px;\">This is a paragraph.</p> <!-- This applies a CSS style to the p element -->\n",
    "</body>\n",
    "</html>\n"
   ]
  },
  {
   "cell_type": "markdown",
   "metadata": {},
   "source": [
    "<!DOCTYPE html>\n",
    "<html>\n",
    "<head>\n",
    "  <!-- Write the CSS code inside the style element -->\n",
    "  <style>\n",
    "    #helloButton {\n",
    "      background-color: blue;\n",
    "      color: white;\n",
    "      font-size: 20px;\n",
    "      padding: 10px;\n",
    "      border: none;\n",
    "    }\n",
    "    #helloButton:hover {\n",
    "      background-color: lightblue;\n",
    "    }\n",
    "    #helloButton:active {\n",
    "      background-color: darkblue;\n",
    "    }\n",
    "  </style>\n",
    "</head>\n",
    "<body>\n",
    "  <!-- Create a button element -->\n",
    "  <button id=\"helloButton\" type=\"button\">Hello World</button>\n",
    "\n",
    "  <!-- Write the JavaScript code inside the script element -->\n",
    "  <script>\n",
    "    // Get a reference to the button element by its id\n",
    "    var helloButton = document.getElementById(\"helloButton\");\n",
    "\n",
    "    var number = 0;\n",
    "\n",
    "    helloButton.textContent = number;\n",
    "\n",
    "    // Attach a click event listener to the button\n",
    "    helloButton.addEventListener(\"click\", function() {\n",
    "      // Display a message in a dialog box\n",
    "\n",
    "      number++;\n",
    "\n",
    "      helloButton.textContent = number;\n",
    "      \n",
    "    });\n",
    "  </script>\n",
    "</body>\n",
    "</html>\n"
   ]
  }
 ],
 "metadata": {
  "language_info": {
   "name": "python"
  },
  "orig_nbformat": 4
 },
 "nbformat": 4,
 "nbformat_minor": 2
}
